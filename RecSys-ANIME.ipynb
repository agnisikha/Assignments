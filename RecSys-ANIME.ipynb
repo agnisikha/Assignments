{
 "cells": [
  {
   "cell_type": "code",
   "execution_count": 9,
   "metadata": {},
   "outputs": [],
   "source": [
    "import pandas as pd\n",
    "#import Dataset \n",
    "anime = pd.read_csv(\"D:/DataScience/regression/anime(1).csv\")"
   ]
  },
  {
   "cell_type": "code",
   "execution_count": 10,
   "metadata": {},
   "outputs": [
    {
     "data": {
      "text/plain": [
       "(12294, 7)"
      ]
     },
     "execution_count": 10,
     "metadata": {},
     "output_type": "execute_result"
    }
   ],
   "source": [
    "anime.shape"
   ]
  },
  {
   "cell_type": "code",
   "execution_count": 11,
   "metadata": {},
   "outputs": [
    {
     "data": {
      "text/plain": [
       "0                     Drama, Romance, School, Supernatural\n",
       "1        Action, Adventure, Drama, Fantasy, Magic, Mili...\n",
       "2        Action, Comedy, Historical, Parody, Samurai, S...\n",
       "3                                         Sci-Fi, Thriller\n",
       "4        Action, Comedy, Historical, Parody, Samurai, S...\n",
       "                               ...                        \n",
       "12289                                               Hentai\n",
       "12290                                               Hentai\n",
       "12291                                               Hentai\n",
       "12292                                               Hentai\n",
       "12293                                               Hentai\n",
       "Name: genre, Length: 12294, dtype: object"
      ]
     },
     "execution_count": 11,
     "metadata": {},
     "output_type": "execute_result"
    }
   ],
   "source": [
    "anime.columns\n",
    "anime.genre"
   ]
  },
  {
   "cell_type": "code",
   "execution_count": 12,
   "metadata": {},
   "outputs": [],
   "source": [
    "from sklearn.feature_extraction.text import TfidfVectorizer"
   ]
  },
  {
   "cell_type": "code",
   "execution_count": 13,
   "metadata": {},
   "outputs": [],
   "source": [
    "tfidf = TfidfVectorizer(stop_words=\"english\")    #taking stop words from tfid vectorizer "
   ]
  },
  {
   "cell_type": "code",
   "execution_count": 14,
   "metadata": {},
   "outputs": [
    {
     "data": {
      "text/plain": [
       "62"
      ]
     },
     "execution_count": 14,
     "metadata": {},
     "output_type": "execute_result"
    }
   ],
   "source": [
    "anime[\"genre\"].isnull().sum() "
   ]
  },
  {
   "cell_type": "code",
   "execution_count": 15,
   "metadata": {},
   "outputs": [],
   "source": [
    "anime[\"genre\"] = anime[\"genre\"].fillna(\" \")"
   ]
  },
  {
   "cell_type": "code",
   "execution_count": 16,
   "metadata": {},
   "outputs": [],
   "source": [
    "tfidf_matrix = tfidf.fit_transform(anime.genre)   #Transform a count matrix to a normalized tf or tf-idf representation"
   ]
  },
  {
   "cell_type": "code",
   "execution_count": 17,
   "metadata": {},
   "outputs": [
    {
     "data": {
      "text/plain": [
       "(12294, 46)"
      ]
     },
     "execution_count": 17,
     "metadata": {},
     "output_type": "execute_result"
    }
   ],
   "source": [
    "tfidf_matrix.shape"
   ]
  },
  {
   "cell_type": "code",
   "execution_count": 18,
   "metadata": {},
   "outputs": [],
   "source": [
    "# cosine(x,y)= (x.y⊺)/(||x||.||y||)\n",
    "\n",
    "from sklearn.metrics.pairwise import linear_kernel"
   ]
  },
  {
   "cell_type": "code",
   "execution_count": 19,
   "metadata": {},
   "outputs": [],
   "source": [
    "cosine_sim_matrix = linear_kernel(tfidf_matrix,tfidf_matrix)"
   ]
  },
  {
   "cell_type": "code",
   "execution_count": 20,
   "metadata": {},
   "outputs": [],
   "source": [
    "# creating a mapping of anime name to index number \n",
    "anime_index = pd.Series(anime.index,index=anime['name']).drop_duplicates()"
   ]
  },
  {
   "cell_type": "code",
   "execution_count": 22,
   "metadata": {},
   "outputs": [
    {
     "data": {
      "text/plain": [
       "6"
      ]
     },
     "execution_count": 22,
     "metadata": {},
     "output_type": "execute_result"
    }
   ],
   "source": [
    "anime_index[\"Hunter x Hunter (2011)\"]"
   ]
  },
  {
   "cell_type": "code",
   "execution_count": 23,
   "metadata": {},
   "outputs": [],
   "source": [
    "def get_anime_recommendations(Name,topN):\n",
    "\n",
    "#topN = 10\n",
    "    # Getting the movie index using its title \n",
    "    anime_id = anime_index[Name]\n",
    "    \n",
    "    # Getting the pair wise similarity score for all the anime's with that \n",
    "    # anime\n",
    "    cosine_scores = list(enumerate(cosine_sim_matrix[anime_id]))\n",
    "    \n",
    "    # Sorting the cosine_similarity scores based on scores \n",
    "    cosine_scores = sorted(cosine_scores,key=lambda x:x[1],reverse = True)\n",
    "    \n",
    "    # Get the scores of top 10 most similar anime's \n",
    "    cosine_scores_10 = cosine_scores[0:topN+1]\n",
    "    \n",
    "    # Getting the anime index \n",
    "    anime_idx  =  [i[0] for i in cosine_scores_10]\n",
    "    anime_scores =  [i[1] for i in cosine_scores_10]\n",
    "    \n",
    "    # Similar movies and scores\n",
    "    anime_similar_show = pd.DataFrame(columns=[\"name\",\"Score\"])\n",
    "    anime_similar_show[\"name\"] = anime.loc[anime_idx,\"name\"]\n",
    "    anime_similar_show[\"Score\"] = anime_scores\n",
    "    anime_similar_show.reset_index(inplace=True)  \n",
    "    anime_similar_show.drop([\"index\"],axis=1,inplace=True)\n",
    "    print (anime_similar_show)"
   ]
  },
  {
   "cell_type": "code",
   "execution_count": 24,
   "metadata": {},
   "outputs": [
    {
     "name": "stdout",
     "output_type": "stream",
     "text": [
      "                                                 name     Score\n",
      "0                                Ginga Eiyuu Densetsu  1.000000\n",
      "1          Ginga Eiyuu Densetsu Gaiden: Rasen Meikyuu  1.000000\n",
      "2                                  Starship Operators  1.000000\n",
      "3                         Uchuu Senkan Yamato (Movie)  1.000000\n",
      "4                                     Ginga Patrol PJ  1.000000\n",
      "5                            Uchuu Senkan Yamato 2199  0.954633\n",
      "6   Ginga Eiyuu Densetsu: Arata Naru Tatakai no Ov...  0.954633\n",
      "7                                     Terra e... (TV)  0.954633\n",
      "8      Uchuu Senkan Yamato 2199: Hoshimeguru Hakobune  0.954633\n",
      "9             Ouritsu Uchuugun: Honneamise no Tsubasa  0.954633\n",
      "10     Saraba Uchuu Senkan Yamato: Ai no Senshi-tachi  0.954633\n",
      "11                              Uchuu Kuubo Blue Noah  0.954633\n",
      "12        Uchuu Senkan Yamato 2199: Tsuioku no Koukai  0.954633\n",
      "13                        Ginga Eiyuu Densetsu (2017)  0.954633\n",
      "14       Uchuu Senkan Yamato 2202: Ai no Senshi-tachi  0.954633\n",
      "15                          Cosmo Warrior Zero Gaiden  0.947853\n"
     ]
    }
   ],
   "source": [
    "get_anime_recommendations(\"Ginga Eiyuu Densetsu\",topN=15)"
   ]
  },
  {
   "cell_type": "code",
   "execution_count": null,
   "metadata": {},
   "outputs": [],
   "source": []
  }
 ],
 "metadata": {
  "kernelspec": {
   "display_name": "Python 3",
   "language": "python",
   "name": "python3"
  },
  "language_info": {
   "codemirror_mode": {
    "name": "ipython",
    "version": 3
   },
   "file_extension": ".py",
   "mimetype": "text/x-python",
   "name": "python",
   "nbconvert_exporter": "python",
   "pygments_lexer": "ipython3",
   "version": "3.7.4"
  }
 },
 "nbformat": 4,
 "nbformat_minor": 2
}
