{
 "cells": [
  {
   "cell_type": "code",
   "execution_count": 1,
   "metadata": {},
   "outputs": [],
   "source": [
    "import os\n",
    "import pandas as pd\n",
    "import numpy as np\n",
    "import seaborn as sns\n",
    "import matplotlib.pyplot as plt\n",
    "%matplotlib inline"
   ]
  },
  {
   "cell_type": "code",
   "execution_count": 5,
   "metadata": {},
   "outputs": [],
   "source": [
    "train = pd.read_csv(\"C:/Users/agnis/Downloads/train.csv\")\n",
    "test = pd.read_csv(\"C:/Users/agnis/Downloads/test.csv\")"
   ]
  },
  {
   "cell_type": "code",
   "execution_count": 6,
   "metadata": {},
   "outputs": [
    {
     "name": "stdout",
     "output_type": "stream",
     "text": [
      "<class 'pandas.core.frame.DataFrame'>\n",
      "RangeIndex: 891 entries, 0 to 890\n",
      "Data columns (total 12 columns):\n",
      "PassengerId    891 non-null int64\n",
      "Survived       891 non-null int64\n",
      "Pclass         891 non-null int64\n",
      "Name           891 non-null object\n",
      "Sex            891 non-null object\n",
      "Age            714 non-null float64\n",
      "SibSp          891 non-null int64\n",
      "Parch          891 non-null int64\n",
      "Ticket         891 non-null object\n",
      "Fare           891 non-null float64\n",
      "Cabin          204 non-null object\n",
      "Embarked       889 non-null object\n",
      "dtypes: float64(2), int64(5), object(5)\n",
      "memory usage: 83.7+ KB\n"
     ]
    }
   ],
   "source": [
    "train.info()"
   ]
  },
  {
   "cell_type": "code",
   "execution_count": 7,
   "metadata": {},
   "outputs": [
    {
     "name": "stdout",
     "output_type": "stream",
     "text": [
      "<class 'pandas.core.frame.DataFrame'>\n",
      "RangeIndex: 418 entries, 0 to 417\n",
      "Data columns (total 11 columns):\n",
      "PassengerId    418 non-null int64\n",
      "Pclass         418 non-null int64\n",
      "Name           418 non-null object\n",
      "Sex            418 non-null object\n",
      "Age            332 non-null float64\n",
      "SibSp          418 non-null int64\n",
      "Parch          418 non-null int64\n",
      "Ticket         418 non-null object\n",
      "Fare           417 non-null float64\n",
      "Cabin          91 non-null object\n",
      "Embarked       418 non-null object\n",
      "dtypes: float64(2), int64(4), object(5)\n",
      "memory usage: 36.0+ KB\n"
     ]
    }
   ],
   "source": [
    "test.info()"
   ]
  },
  {
   "cell_type": "code",
   "execution_count": 8,
   "metadata": {},
   "outputs": [
    {
     "data": {
      "text/html": [
       "<div>\n",
       "<style scoped>\n",
       "    .dataframe tbody tr th:only-of-type {\n",
       "        vertical-align: middle;\n",
       "    }\n",
       "\n",
       "    .dataframe tbody tr th {\n",
       "        vertical-align: top;\n",
       "    }\n",
       "\n",
       "    .dataframe thead th {\n",
       "        text-align: right;\n",
       "    }\n",
       "</style>\n",
       "<table border=\"1\" class=\"dataframe\">\n",
       "  <thead>\n",
       "    <tr style=\"text-align: right;\">\n",
       "      <th></th>\n",
       "      <th>PassengerId</th>\n",
       "      <th>Survived</th>\n",
       "      <th>Pclass</th>\n",
       "      <th>Name</th>\n",
       "      <th>Sex</th>\n",
       "      <th>Age</th>\n",
       "      <th>SibSp</th>\n",
       "      <th>Parch</th>\n",
       "      <th>Ticket</th>\n",
       "      <th>Fare</th>\n",
       "      <th>Cabin</th>\n",
       "      <th>Embarked</th>\n",
       "    </tr>\n",
       "  </thead>\n",
       "  <tbody>\n",
       "    <tr>\n",
       "      <td>0</td>\n",
       "      <td>1</td>\n",
       "      <td>0</td>\n",
       "      <td>3</td>\n",
       "      <td>Braund, Mr. Owen Harris</td>\n",
       "      <td>male</td>\n",
       "      <td>22.0</td>\n",
       "      <td>1</td>\n",
       "      <td>0</td>\n",
       "      <td>A/5 21171</td>\n",
       "      <td>7.2500</td>\n",
       "      <td>NaN</td>\n",
       "      <td>S</td>\n",
       "    </tr>\n",
       "    <tr>\n",
       "      <td>1</td>\n",
       "      <td>2</td>\n",
       "      <td>1</td>\n",
       "      <td>1</td>\n",
       "      <td>Cumings, Mrs. John Bradley (Florence Briggs Th...</td>\n",
       "      <td>female</td>\n",
       "      <td>38.0</td>\n",
       "      <td>1</td>\n",
       "      <td>0</td>\n",
       "      <td>PC 17599</td>\n",
       "      <td>71.2833</td>\n",
       "      <td>C85</td>\n",
       "      <td>C</td>\n",
       "    </tr>\n",
       "    <tr>\n",
       "      <td>2</td>\n",
       "      <td>3</td>\n",
       "      <td>1</td>\n",
       "      <td>3</td>\n",
       "      <td>Heikkinen, Miss. Laina</td>\n",
       "      <td>female</td>\n",
       "      <td>26.0</td>\n",
       "      <td>0</td>\n",
       "      <td>0</td>\n",
       "      <td>STON/O2. 3101282</td>\n",
       "      <td>7.9250</td>\n",
       "      <td>NaN</td>\n",
       "      <td>S</td>\n",
       "    </tr>\n",
       "    <tr>\n",
       "      <td>3</td>\n",
       "      <td>4</td>\n",
       "      <td>1</td>\n",
       "      <td>1</td>\n",
       "      <td>Futrelle, Mrs. Jacques Heath (Lily May Peel)</td>\n",
       "      <td>female</td>\n",
       "      <td>35.0</td>\n",
       "      <td>1</td>\n",
       "      <td>0</td>\n",
       "      <td>113803</td>\n",
       "      <td>53.1000</td>\n",
       "      <td>C123</td>\n",
       "      <td>S</td>\n",
       "    </tr>\n",
       "    <tr>\n",
       "      <td>4</td>\n",
       "      <td>5</td>\n",
       "      <td>0</td>\n",
       "      <td>3</td>\n",
       "      <td>Allen, Mr. William Henry</td>\n",
       "      <td>male</td>\n",
       "      <td>35.0</td>\n",
       "      <td>0</td>\n",
       "      <td>0</td>\n",
       "      <td>373450</td>\n",
       "      <td>8.0500</td>\n",
       "      <td>NaN</td>\n",
       "      <td>S</td>\n",
       "    </tr>\n",
       "  </tbody>\n",
       "</table>\n",
       "</div>"
      ],
      "text/plain": [
       "   PassengerId  Survived  Pclass  \\\n",
       "0            1         0       3   \n",
       "1            2         1       1   \n",
       "2            3         1       3   \n",
       "3            4         1       1   \n",
       "4            5         0       3   \n",
       "\n",
       "                                                Name     Sex   Age  SibSp  \\\n",
       "0                            Braund, Mr. Owen Harris    male  22.0      1   \n",
       "1  Cumings, Mrs. John Bradley (Florence Briggs Th...  female  38.0      1   \n",
       "2                             Heikkinen, Miss. Laina  female  26.0      0   \n",
       "3       Futrelle, Mrs. Jacques Heath (Lily May Peel)  female  35.0      1   \n",
       "4                           Allen, Mr. William Henry    male  35.0      0   \n",
       "\n",
       "   Parch            Ticket     Fare Cabin Embarked  \n",
       "0      0         A/5 21171   7.2500   NaN        S  \n",
       "1      0          PC 17599  71.2833   C85        C  \n",
       "2      0  STON/O2. 3101282   7.9250   NaN        S  \n",
       "3      0            113803  53.1000  C123        S  \n",
       "4      0            373450   8.0500   NaN        S  "
      ]
     },
     "execution_count": 8,
     "metadata": {},
     "output_type": "execute_result"
    }
   ],
   "source": [
    "train.head()"
   ]
  },
  {
   "cell_type": "code",
   "execution_count": 9,
   "metadata": {},
   "outputs": [
    {
     "data": {
      "text/plain": [
       "0    0.616162\n",
       "1    0.383838\n",
       "Name: Survived, dtype: float64"
      ]
     },
     "execution_count": 9,
     "metadata": {},
     "output_type": "execute_result"
    }
   ],
   "source": [
    "train['Survived'].value_counts(normalize=True)"
   ]
  },
  {
   "cell_type": "code",
   "execution_count": 10,
   "metadata": {},
   "outputs": [
    {
     "data": {
      "text/plain": [
       "<matplotlib.axes._subplots.AxesSubplot at 0x1c251ae1408>"
      ]
     },
     "execution_count": 10,
     "metadata": {},
     "output_type": "execute_result"
    },
    {
     "data": {
      "image/png": "[encoded data removed]",
      "text/plain": [
       "<Figure size 432x288 with 1 Axes>"
      ]
     },
     "metadata": {
      "needs_background": "light"
     },
     "output_type": "display_data"
    }
   ],
   "source": [
    "sns.countplot(train['Survived'])"
   ]
  },
  {
   "cell_type": "code",
   "execution_count": 11,
   "metadata": {},
   "outputs": [
    {
     "data": {
      "text/plain": [
       "Pclass\n",
       "1    0.629630\n",
       "2    0.472826\n",
       "3    0.242363\n",
       "Name: Survived, dtype: float64"
      ]
     },
     "execution_count": 11,
     "metadata": {},
     "output_type": "execute_result"
    }
   ],
   "source": [
    "train['Survived'].groupby(train['Pclass']).mean()"
   ]
  },
  {
   "cell_type": "code",
   "execution_count": 12,
   "metadata": {},
   "outputs": [
    {
     "data": {
      "text/plain": [
       "<matplotlib.axes._subplots.AxesSubplot at 0x1c251deea08>"
      ]
     },
     "execution_count": 12,
     "metadata": {},
     "output_type": "execute_result"
    },
    {
     "data": {
      "image/png": "[encoded data removed]",
      "text/plain": [
       "<Figure size 432x288 with 1 Axes>"
      ]
     },
     "metadata": {
      "needs_background": "light"
     },
     "output_type": "display_data"
    }
   ],
   "source": [
    "sns.countplot(train['Pclass'], hue=train['Survived'])"
   ]
  },
  {
   "cell_type": "code",
   "execution_count": 13,
   "metadata": {},
   "outputs": [
    {
     "data": {
      "text/plain": [
       "0                              Braund, Mr. Owen Harris\n",
       "1    Cumings, Mrs. John Bradley (Florence Briggs Th...\n",
       "2                               Heikkinen, Miss. Laina\n",
       "3         Futrelle, Mrs. Jacques Heath (Lily May Peel)\n",
       "4                             Allen, Mr. William Henry\n",
       "Name: Name, dtype: object"
      ]
     },
     "execution_count": 13,
     "metadata": {},
     "output_type": "execute_result"
    }
   ],
   "source": [
    "train['Name'].head()"
   ]
  },
  {
   "cell_type": "code",
   "execution_count": 14,
   "metadata": {},
   "outputs": [
    {
     "data": {
      "text/plain": [
       "Mr.          517\n",
       "Miss.        182\n",
       "Mrs.         125\n",
       "Master.       40\n",
       "Dr.            7\n",
       "Rev.           6\n",
       "Col.           2\n",
       "Mlle.          2\n",
       "Major.         2\n",
       "Jonkheer.      1\n",
       "Don.           1\n",
       "Ms.            1\n",
       "Sir.           1\n",
       "Lady.          1\n",
       "Capt.          1\n",
       "Mme.           1\n",
       "the            1\n",
       "Name: Name_Title, dtype: int64"
      ]
     },
     "execution_count": 14,
     "metadata": {},
     "output_type": "execute_result"
    }
   ],
   "source": [
    "train['Name_Title'] = train['Name'].apply(lambda x: x.split(',')[1]).apply(lambda x: x.split()[0])\n",
    "train['Name_Title'].value_counts()"
   ]
  },
  {
   "cell_type": "code",
   "execution_count": 15,
   "metadata": {},
   "outputs": [
    {
     "data": {
      "text/plain": [
       "Name_Title\n",
       "Capt.        0.000000\n",
       "Col.         0.500000\n",
       "Don.         0.000000\n",
       "Dr.          0.428571\n",
       "Jonkheer.    0.000000\n",
       "Lady.        1.000000\n",
       "Major.       0.500000\n",
       "Master.      0.575000\n",
       "Miss.        0.697802\n",
       "Mlle.        1.000000\n",
       "Mme.         1.000000\n",
       "Mr.          0.156673\n",
       "Mrs.         0.792000\n",
       "Ms.          1.000000\n",
       "Rev.         0.000000\n",
       "Sir.         1.000000\n",
       "the          1.000000\n",
       "Name: Survived, dtype: float64"
      ]
     },
     "execution_count": 15,
     "metadata": {},
     "output_type": "execute_result"
    }
   ],
   "source": [
    "train['Survived'].groupby(train['Name_Title']).mean()"
   ]
  },
  {
   "cell_type": "code",
   "execution_count": 16,
   "metadata": {},
   "outputs": [
    {
     "data": {
      "text/plain": [
       "Name_Len\n",
       "(11.999, 19.0]    0.220588\n",
       "(19.0, 23.0]      0.301282\n",
       "(23.0, 27.0]      0.319797\n",
       "(27.0, 32.0]      0.442424\n",
       "(32.0, 82.0]      0.674556\n",
       "Name: Survived, dtype: float64"
      ]
     },
     "execution_count": 16,
     "metadata": {},
     "output_type": "execute_result"
    }
   ],
   "source": [
    "train['Name_Len'] = train['Name'].apply(lambda x: len(x))\n",
    "train['Survived'].groupby(pd.qcut(train['Name_Len'],5)).mean()"
   ]
  },
  {
   "cell_type": "code",
   "execution_count": 17,
   "metadata": {},
   "outputs": [
    {
     "data": {
      "text/plain": [
       "(11.999, 19.0]    204\n",
       "(23.0, 27.0]      197\n",
       "(32.0, 82.0]      169\n",
       "(27.0, 32.0]      165\n",
       "(19.0, 23.0]      156\n",
       "Name: Name_Len, dtype: int64"
      ]
     },
     "execution_count": 17,
     "metadata": {},
     "output_type": "execute_result"
    }
   ],
   "source": [
    "pd.qcut(train['Name_Len'],5).value_counts()"
   ]
  },
  {
   "cell_type": "code",
   "execution_count": 18,
   "metadata": {},
   "outputs": [
    {
     "data": {
      "text/plain": [
       "male      0.647587\n",
       "female    0.352413\n",
       "Name: Sex, dtype: float64"
      ]
     },
     "execution_count": 18,
     "metadata": {},
     "output_type": "execute_result"
    }
   ],
   "source": [
    "train['Sex'].value_counts(normalize=True)"
   ]
  },
  {
   "cell_type": "code",
   "execution_count": 19,
   "metadata": {},
   "outputs": [
    {
     "data": {
      "text/plain": [
       "Sex\n",
       "female    0.742038\n",
       "male      0.188908\n",
       "Name: Survived, dtype: float64"
      ]
     },
     "execution_count": 19,
     "metadata": {},
     "output_type": "execute_result"
    }
   ],
   "source": [
    "train['Survived'].groupby(train['Sex']).mean()"
   ]
  },
  {
   "cell_type": "code",
   "execution_count": 20,
   "metadata": {},
   "outputs": [
    {
     "data": {
      "text/plain": [
       "Age\n",
       "False    0.406162\n",
       "True     0.293785\n",
       "Name: Survived, dtype: float64"
      ]
     },
     "execution_count": 20,
     "metadata": {},
     "output_type": "execute_result"
    }
   ],
   "source": [
    "train['Survived'].groupby(train['Age'].isnull()).mean()"
   ]
  },
  {
   "cell_type": "code",
   "execution_count": 21,
   "metadata": {},
   "outputs": [
    {
     "data": {
      "text/plain": [
       "Age\n",
       "(0.419, 19.0]    0.481707\n",
       "(19.0, 25.0]     0.328467\n",
       "(25.0, 31.8]     0.393701\n",
       "(31.8, 41.0]     0.437500\n",
       "(41.0, 80.0]     0.373239\n",
       "Name: Survived, dtype: float64"
      ]
     },
     "execution_count": 21,
     "metadata": {},
     "output_type": "execute_result"
    }
   ],
   "source": [
    "train['Survived'].groupby(pd.qcut(train['Age'],5)).mean()"
   ]
  },
  {
   "cell_type": "code",
   "execution_count": 22,
   "metadata": {},
   "outputs": [
    {
     "data": {
      "text/plain": [
       "(0.419, 19.0]    164\n",
       "(31.8, 41.0]     144\n",
       "(41.0, 80.0]     142\n",
       "(19.0, 25.0]     137\n",
       "(25.0, 31.8]     127\n",
       "Name: Age, dtype: int64"
      ]
     },
     "execution_count": 22,
     "metadata": {},
     "output_type": "execute_result"
    }
   ],
   "source": [
    "pd.qcut(train['Age'],5).value_counts()"
   ]
  },
  {
   "cell_type": "code",
   "execution_count": 23,
   "metadata": {},
   "outputs": [
    {
     "data": {
      "text/plain": [
       "SibSp\n",
       "0    0.345395\n",
       "1    0.535885\n",
       "2    0.464286\n",
       "3    0.250000\n",
       "4    0.166667\n",
       "5    0.000000\n",
       "8    0.000000\n",
       "Name: Survived, dtype: float64"
      ]
     },
     "execution_count": 23,
     "metadata": {},
     "output_type": "execute_result"
    }
   ],
   "source": [
    "train['Survived'].groupby(train['SibSp']).mean()"
   ]
  },
  {
   "cell_type": "code",
   "execution_count": 24,
   "metadata": {},
   "outputs": [
    {
     "data": {
      "text/plain": [
       "0    608\n",
       "1    209\n",
       "2     28\n",
       "4     18\n",
       "3     16\n",
       "8      7\n",
       "5      5\n",
       "Name: SibSp, dtype: int64"
      ]
     },
     "execution_count": 24,
     "metadata": {},
     "output_type": "execute_result"
    }
   ],
   "source": [
    "train['SibSp'].value_counts()"
   ]
  },
  {
   "cell_type": "code",
   "execution_count": 25,
   "metadata": {},
   "outputs": [
    {
     "data": {
      "text/plain": [
       "Parch\n",
       "0    0.343658\n",
       "1    0.550847\n",
       "2    0.500000\n",
       "3    0.600000\n",
       "4    0.000000\n",
       "5    0.200000\n",
       "6    0.000000\n",
       "Name: Survived, dtype: float64"
      ]
     },
     "execution_count": 25,
     "metadata": {},
     "output_type": "execute_result"
    }
   ],
   "source": [
    "train['Survived'].groupby(train['Parch']).mean()"
   ]
  },
  {
   "cell_type": "code",
   "execution_count": 26,
   "metadata": {},
   "outputs": [
    {
     "data": {
      "text/plain": [
       "0    678\n",
       "1    118\n",
       "2     80\n",
       "5      5\n",
       "3      5\n",
       "4      4\n",
       "6      1\n",
       "Name: Parch, dtype: int64"
      ]
     },
     "execution_count": 26,
     "metadata": {},
     "output_type": "execute_result"
    }
   ],
   "source": [
    "train['Parch'].value_counts()"
   ]
  },
  {
   "cell_type": "code",
   "execution_count": 27,
   "metadata": {},
   "outputs": [
    {
     "data": {
      "text/plain": [
       "0           A/5 21171\n",
       "1            PC 17599\n",
       "2    STON/O2. 3101282\n",
       "3              113803\n",
       "4              373450\n",
       "5              330877\n",
       "6               17463\n",
       "7              349909\n",
       "8              347742\n",
       "9              237736\n",
       "Name: Ticket, dtype: object"
      ]
     },
     "execution_count": 27,
     "metadata": {},
     "output_type": "execute_result"
    }
   ],
   "source": [
    "train['Ticket'].head(n=10)"
   ]
  },
  {
   "cell_type": "code",
   "execution_count": 28,
   "metadata": {},
   "outputs": [],
   "source": [
    "train['Ticket_Len'] = train['Ticket'].apply(lambda x: len(x))"
   ]
  },
  {
   "cell_type": "code",
   "execution_count": 29,
   "metadata": {},
   "outputs": [
    {
     "data": {
      "text/plain": [
       "6     419\n",
       "5     131\n",
       "4     101\n",
       "8      76\n",
       "10     41\n",
       "7      27\n",
       "9      26\n",
       "17     14\n",
       "16     11\n",
       "13     10\n",
       "12     10\n",
       "15      9\n",
       "11      8\n",
       "18      6\n",
       "3       2\n",
       "Name: Ticket_Len, dtype: int64"
      ]
     },
     "execution_count": 29,
     "metadata": {},
     "output_type": "execute_result"
    }
   ],
   "source": [
    "train['Ticket_Len'].value_counts()"
   ]
  },
  {
   "cell_type": "code",
   "execution_count": 30,
   "metadata": {},
   "outputs": [],
   "source": [
    "train['Ticket_Lett'] = train['Ticket'].apply(lambda x: str(x)[0])"
   ]
  },
  {
   "cell_type": "code",
   "execution_count": 31,
   "metadata": {},
   "outputs": [
    {
     "data": {
      "text/plain": [
       "3    301\n",
       "2    183\n",
       "1    146\n",
       "S     65\n",
       "P     65\n",
       "C     47\n",
       "A     29\n",
       "W     13\n",
       "4     10\n",
       "7      9\n",
       "F      7\n",
       "6      6\n",
       "L      4\n",
       "5      3\n",
       "8      2\n",
       "9      1\n",
       "Name: Ticket_Lett, dtype: int64"
      ]
     },
     "execution_count": 31,
     "metadata": {},
     "output_type": "execute_result"
    }
   ],
   "source": [
    "train['Ticket_Lett'].value_counts()"
   ]
  },
  {
   "cell_type": "code",
   "execution_count": 32,
   "metadata": {},
   "outputs": [
    {
     "data": {
      "text/plain": [
       "Ticket_Lett\n",
       "1    0.630137\n",
       "2    0.464481\n",
       "3    0.239203\n",
       "4    0.200000\n",
       "5    0.000000\n",
       "6    0.166667\n",
       "7    0.111111\n",
       "8    0.000000\n",
       "9    1.000000\n",
       "A    0.068966\n",
       "C    0.340426\n",
       "F    0.571429\n",
       "L    0.250000\n",
       "P    0.646154\n",
       "S    0.323077\n",
       "W    0.153846\n",
       "Name: Survived, dtype: float64"
      ]
     },
     "execution_count": 32,
     "metadata": {},
     "output_type": "execute_result"
    }
   ],
   "source": [
    "train.groupby(['Ticket_Lett'])['Survived'].mean()"
   ]
  },
  {
   "cell_type": "code",
   "execution_count": 33,
   "metadata": {},
   "outputs": [
    {
     "data": {
      "text/plain": [
       "(-0.001, 8.662]    308\n",
       "(26.0, 512.329]    295\n",
       "(8.662, 26.0]      288\n",
       "Name: Fare, dtype: int64"
      ]
     },
     "execution_count": 33,
     "metadata": {},
     "output_type": "execute_result"
    }
   ],
   "source": [
    "pd.qcut(train['Fare'], 3).value_counts()"
   ]
  },
  {
   "cell_type": "code",
   "execution_count": 34,
   "metadata": {},
   "outputs": [
    {
     "data": {
      "text/plain": [
       "Fare\n",
       "(-0.001, 8.662]    0.198052\n",
       "(8.662, 26.0]      0.402778\n",
       "(26.0, 512.329]    0.559322\n",
       "Name: Survived, dtype: float64"
      ]
     },
     "execution_count": 34,
     "metadata": {},
     "output_type": "execute_result"
    }
   ],
   "source": [
    "train['Survived'].groupby(pd.qcut(train['Fare'], 3)).mean()"
   ]
  },
  {
   "cell_type": "code",
   "execution_count": 35,
   "metadata": {},
   "outputs": [
    {
     "data": {
      "text/html": [
       "<div>\n",
       "<style scoped>\n",
       "    .dataframe tbody tr th:only-of-type {\n",
       "        vertical-align: middle;\n",
       "    }\n",
       "\n",
       "    .dataframe tbody tr th {\n",
       "        vertical-align: top;\n",
       "    }\n",
       "\n",
       "    .dataframe thead th {\n",
       "        text-align: right;\n",
       "    }\n",
       "</style>\n",
       "<table border=\"1\" class=\"dataframe\">\n",
       "  <thead>\n",
       "    <tr style=\"text-align: right;\">\n",
       "      <th>Pclass</th>\n",
       "      <th>1</th>\n",
       "      <th>2</th>\n",
       "      <th>3</th>\n",
       "    </tr>\n",
       "    <tr>\n",
       "      <th>Fare</th>\n",
       "      <th></th>\n",
       "      <th></th>\n",
       "      <th></th>\n",
       "    </tr>\n",
       "  </thead>\n",
       "  <tbody>\n",
       "    <tr>\n",
       "      <td>(-0.001, 7.854]</td>\n",
       "      <td>6</td>\n",
       "      <td>6</td>\n",
       "      <td>167</td>\n",
       "    </tr>\n",
       "    <tr>\n",
       "      <td>(7.854, 10.5]</td>\n",
       "      <td>0</td>\n",
       "      <td>24</td>\n",
       "      <td>160</td>\n",
       "    </tr>\n",
       "    <tr>\n",
       "      <td>(10.5, 21.679]</td>\n",
       "      <td>0</td>\n",
       "      <td>80</td>\n",
       "      <td>92</td>\n",
       "    </tr>\n",
       "    <tr>\n",
       "      <td>(21.679, 39.688]</td>\n",
       "      <td>64</td>\n",
       "      <td>64</td>\n",
       "      <td>52</td>\n",
       "    </tr>\n",
       "    <tr>\n",
       "      <td>(39.688, 512.329]</td>\n",
       "      <td>146</td>\n",
       "      <td>10</td>\n",
       "      <td>20</td>\n",
       "    </tr>\n",
       "  </tbody>\n",
       "</table>\n",
       "</div>"
      ],
      "text/plain": [
       "Pclass               1   2    3\n",
       "Fare                           \n",
       "(-0.001, 7.854]      6   6  167\n",
       "(7.854, 10.5]        0  24  160\n",
       "(10.5, 21.679]       0  80   92\n",
       "(21.679, 39.688]    64  64   52\n",
       "(39.688, 512.329]  146  10   20"
      ]
     },
     "execution_count": 35,
     "metadata": {},
     "output_type": "execute_result"
    }
   ],
   "source": [
    "pd.crosstab(pd.qcut(train['Fare'], 5), columns=train['Pclass'])"
   ]
  },
  {
   "cell_type": "code",
   "execution_count": 36,
   "metadata": {},
   "outputs": [],
   "source": [
    "train['Cabin_Letter'] = train['Cabin'].apply(lambda x: str(x)[0])"
   ]
  },
  {
   "cell_type": "code",
   "execution_count": 37,
   "metadata": {},
   "outputs": [
    {
     "data": {
      "text/plain": [
       "n    687\n",
       "C     59\n",
       "B     47\n",
       "D     33\n",
       "E     32\n",
       "A     15\n",
       "F     13\n",
       "G      4\n",
       "T      1\n",
       "Name: Cabin_Letter, dtype: int64"
      ]
     },
     "execution_count": 37,
     "metadata": {},
     "output_type": "execute_result"
    }
   ],
   "source": [
    "train['Cabin_Letter'].value_counts()"
   ]
  },
  {
   "cell_type": "code",
   "execution_count": 38,
   "metadata": {},
   "outputs": [
    {
     "data": {
      "text/plain": [
       "Cabin_Letter\n",
       "A    0.466667\n",
       "B    0.744681\n",
       "C    0.593220\n",
       "D    0.757576\n",
       "E    0.750000\n",
       "F    0.615385\n",
       "G    0.500000\n",
       "T    0.000000\n",
       "n    0.299854\n",
       "Name: Survived, dtype: float64"
      ]
     },
     "execution_count": 38,
     "metadata": {},
     "output_type": "execute_result"
    }
   ],
   "source": [
    "train['Survived'].groupby(train['Cabin_Letter']).mean()"
   ]
  },
  {
   "cell_type": "code",
   "execution_count": 39,
   "metadata": {},
   "outputs": [
    {
     "data": {
      "text/plain": [
       "S    644\n",
       "C    168\n",
       "Q     77\n",
       "Name: Embarked, dtype: int64"
      ]
     },
     "execution_count": 39,
     "metadata": {},
     "output_type": "execute_result"
    }
   ],
   "source": [
    "train['Embarked'].value_counts()"
   ]
  },
  {
   "cell_type": "code",
   "execution_count": 40,
   "metadata": {},
   "outputs": [
    {
     "data": {
      "text/plain": [
       "S    0.724409\n",
       "C    0.188976\n",
       "Q    0.086614\n",
       "Name: Embarked, dtype: float64"
      ]
     },
     "execution_count": 40,
     "metadata": {},
     "output_type": "execute_result"
    }
   ],
   "source": [
    "train['Embarked'].value_counts(normalize=True)"
   ]
  },
  {
   "cell_type": "code",
   "execution_count": 41,
   "metadata": {},
   "outputs": [
    {
     "data": {
      "text/plain": [
       "Embarked\n",
       "C    0.553571\n",
       "Q    0.389610\n",
       "S    0.336957\n",
       "Name: Survived, dtype: float64"
      ]
     },
     "execution_count": 41,
     "metadata": {},
     "output_type": "execute_result"
    }
   ],
   "source": [
    "train['Survived'].groupby(train['Embarked']).mean()"
   ]
  },
  {
   "cell_type": "code",
   "execution_count": 42,
   "metadata": {},
   "outputs": [
    {
     "data": {
      "text/plain": [
       "<matplotlib.axes._subplots.AxesSubplot at 0x1c251ec8088>"
      ]
     },
     "execution_count": 42,
     "metadata": {},
     "output_type": "execute_result"
    },
    {
     "data": {
      "image/png": "[encoded data removed]",
      "text/plain": [
       "<Figure size 432x288 with 1 Axes>"
      ]
     },
     "metadata": {
      "needs_background": "light"
     },
     "output_type": "display_data"
    }
   ],
   "source": [
    "sns.countplot(train['Embarked'], hue=train['Pclass'])"
   ]
  },
  {
   "cell_type": "code",
   "execution_count": 43,
   "metadata": {},
   "outputs": [],
   "source": [
    "def names(train, test):\n",
    "    for i in [train, test]:\n",
    "        i['Name_Len'] = i['Name'].apply(lambda x: len(x))\n",
    "        i['Name_Title'] = i['Name'].apply(lambda x: x.split(',')[1]).apply(lambda x: x.split()[0])\n",
    "        del i['Name']\n",
    "    return train, test"
   ]
  },
  {
   "cell_type": "code",
   "execution_count": 44,
   "metadata": {},
   "outputs": [],
   "source": [
    "def age_impute(train, test):\n",
    "    for i in [train, test]:\n",
    "        i['Age_Null_Flag'] = i['Age'].apply(lambda x: 1 if pd.isnull(x) else 0)\n",
    "        data = train.groupby(['Name_Title', 'Pclass'])['Age']\n",
    "        i['Age'] = data.transform(lambda x: x.fillna(x.mean()))\n",
    "    return train, test"
   ]
  },
  {
   "cell_type": "code",
   "execution_count": 45,
   "metadata": {},
   "outputs": [],
   "source": [
    "def fam_size(train, test):\n",
    "    for i in [train, test]:\n",
    "        i['Fam_Size'] = np.where((i['SibSp']+i['Parch']) == 0 , 'Solo',\n",
    "                           np.where((i['SibSp']+i['Parch']) <= 3,'Nuclear', 'Big'))\n",
    "        del i['SibSp']\n",
    "        del i['Parch']\n",
    "    return train, test"
   ]
  },
  {
   "cell_type": "code",
   "execution_count": 46,
   "metadata": {},
   "outputs": [],
   "source": [
    "def ticket_grouped(train, test):\n",
    "    for i in [train, test]:\n",
    "        i['Ticket_Lett'] = i['Ticket'].apply(lambda x: str(x)[0])\n",
    "        i['Ticket_Lett'] = i['Ticket_Lett'].apply(lambda x: str(x))\n",
    "        i['Ticket_Lett'] = np.where((i['Ticket_Lett']).isin(['1', '2', '3', 'S', 'P', 'C', 'A']), i['Ticket_Lett'],\n",
    "                                   np.where((i['Ticket_Lett']).isin(['W', '4', '7', '6', 'L', '5', '8']),\n",
    "                                            'Low_ticket', 'Other_ticket'))\n",
    "        i['Ticket_Len'] = i['Ticket'].apply(lambda x: len(x))\n",
    "        del i['Ticket']\n",
    "    return train, test"
   ]
  },
  {
   "cell_type": "code",
   "execution_count": 47,
   "metadata": {},
   "outputs": [],
   "source": [
    "def cabin(train, test):\n",
    "    for i in [train, test]:\n",
    "        i['Cabin_Letter'] = i['Cabin'].apply(lambda x: str(x)[0])\n",
    "        del i['Cabin']\n",
    "    return train, test"
   ]
  },
  {
   "cell_type": "code",
   "execution_count": 48,
   "metadata": {},
   "outputs": [],
   "source": [
    "\n",
    "\n",
    "def cabin_num(train, test):\n",
    "    for i in [train, test]:\n",
    "        i['Cabin_num1'] = i['Cabin'].apply(lambda x: str(x).split(' ')[-1][1:])\n",
    "        i['Cabin_num1'].replace('an', np.NaN, inplace = True)\n",
    "        i['Cabin_num1'] = i['Cabin_num1'].apply(lambda x: int(x) if not pd.isnull(x) and x != '' else np.NaN)\n",
    "        i['Cabin_num'] = pd.qcut(train['Cabin_num1'],3)\n",
    "    train = pd.concat((train, pd.get_dummies(train['Cabin_num'], prefix = 'Cabin_num')), axis = 1)\n",
    "    test = pd.concat((test, pd.get_dummies(test['Cabin_num'], prefix = 'Cabin_num')), axis = 1)\n",
    "    del train['Cabin_num']\n",
    "    del test['Cabin_num']\n",
    "    del train['Cabin_num1']\n",
    "    del test['Cabin_num1']\n",
    "    return train, test\n",
    "\n"
   ]
  },
  {
   "cell_type": "code",
   "execution_count": 49,
   "metadata": {},
   "outputs": [],
   "source": [
    "def embarked_impute(train, test):\n",
    "    for i in [train, test]:\n",
    "        i['Embarked'] = i['Embarked'].fillna('S')\n",
    "    return train, test"
   ]
  },
  {
   "cell_type": "code",
   "execution_count": 50,
   "metadata": {},
   "outputs": [],
   "source": [
    "test['Fare'].fillna(train['Fare'].mean(), inplace = True)"
   ]
  },
  {
   "cell_type": "code",
   "execution_count": 51,
   "metadata": {},
   "outputs": [],
   "source": [
    "def dummies(train, test, columns = ['Pclass', 'Sex', 'Embarked', 'Ticket_Lett', 'Cabin_Letter', 'Name_Title', 'Fam_Size']):\n",
    "    for column in columns:\n",
    "        train[column] = train[column].apply(lambda x: str(x))\n",
    "        test[column] = test[column].apply(lambda x: str(x))\n",
    "        good_cols = [column+'_'+i for i in train[column].unique() if i in test[column].unique()]\n",
    "        train = pd.concat((train, pd.get_dummies(train[column], prefix = column)[good_cols]), axis = 1)\n",
    "        test = pd.concat((test, pd.get_dummies(test[column], prefix = column)[good_cols]), axis = 1)\n",
    "        del train[column]\n",
    "        del test[column]\n",
    "    return train, test"
   ]
  },
  {
   "cell_type": "code",
   "execution_count": 52,
   "metadata": {},
   "outputs": [],
   "source": [
    "def drop(train, test, bye = ['PassengerId']):\n",
    "    for i in [train, test]:\n",
    "        for z in bye:\n",
    "            del i[z]\n",
    "    return train, test"
   ]
  },
  {
   "cell_type": "code",
   "execution_count": 54,
   "metadata": {},
   "outputs": [],
   "source": [
    "train = pd.read_csv(os.path.join(\"C:/Users/agnis/Downloads/train.csv\"))\n",
    "test = pd.read_csv(os.path.join(\"C:/Users/agnis/Downloads/test.csv\"))\n",
    "train, test = names(train, test)\n",
    "train, test = age_impute(train, test)\n",
    "train, test = cabin_num(train, test)\n",
    "train, test = cabin(train, test)\n",
    "train, test = embarked_impute(train, test)\n",
    "train, test = fam_size(train, test)\n",
    "test['Fare'].fillna(train['Fare'].mean(), inplace = True)\n",
    "train, test = ticket_grouped(train, test)\n",
    "train, test = dummies(train, test, columns = ['Pclass', 'Sex', 'Embarked', 'Ticket_Lett',\n",
    "                                                                     'Cabin_Letter', 'Name_Title', 'Fam_Size'])\n",
    "train, test = drop(train, test)"
   ]
  },
  {
   "cell_type": "code",
   "execution_count": 55,
   "metadata": {},
   "outputs": [
    {
     "name": "stdout",
     "output_type": "stream",
     "text": [
      "45\n"
     ]
    }
   ],
   "source": [
    "print(len(train.columns))"
   ]
  },
  {
   "cell_type": "code",
   "execution_count": 56,
   "metadata": {},
   "outputs": [],
   "source": [
    "from sklearn.model_selection import GridSearchCV\n",
    "from sklearn.ensemble import RandomForestClassifier"
   ]
  },
  {
   "cell_type": "code",
   "execution_count": 57,
   "metadata": {},
   "outputs": [],
   "source": [
    "rf = RandomForestClassifier(max_features='auto', oob_score=True, random_state=1, n_jobs=-1)"
   ]
  },
  {
   "cell_type": "code",
   "execution_count": 58,
   "metadata": {},
   "outputs": [],
   "source": [
    "param_grid = { \"criterion\" : [\"gini\", \"entropy\"], \"min_samples_leaf\" : [1, 5, 10], \"min_samples_split\" : [2, 4, 10, 12, 16], \"n_estimators\": [50, 100, 400, 700, 1000]}"
   ]
  },
  {
   "cell_type": "code",
   "execution_count": 59,
   "metadata": {},
   "outputs": [],
   "source": [
    "gs = GridSearchCV(estimator=rf, param_grid=param_grid, scoring='accuracy', cv=3, n_jobs=-1)"
   ]
  },
  {
   "cell_type": "code",
   "execution_count": 60,
   "metadata": {},
   "outputs": [],
   "source": [
    "gs = gs.fit(train.iloc[:, 1:], train.iloc[:, 0])"
   ]
  },
  {
   "cell_type": "code",
   "execution_count": 69,
   "metadata": {},
   "outputs": [
    {
     "name": "stdout",
     "output_type": "stream",
     "text": [
      "best_score:  0.8383838383838383\n",
      "best_params:  {'criterion': 'gini', 'min_samples_leaf': 1, 'min_samples_split': 10, 'n_estimators': 700}\n",
      "cv_results:  {'mean_fit_time': array([0.51255194, 0.70082951, 2.1176494 , 4.09819961, 6.34048128,\n",
      "       0.40529529, 0.7679863 , 2.87466947, 3.61194221, 5.8845253 ,\n",
      "       0.30737869, 0.86792747, 2.46033867, 4.07666906, 5.8094178 ,\n",
      "       0.25665387, 0.71815181, 2.08458463, 3.57193788, 5.98301872,\n",
      "       0.33441838, 0.77915796, 2.06869165, 3.7267127 , 5.82053638,\n",
      "       0.35650969, 0.75123874, 2.52849539, 3.34310277, 5.42552193,\n",
      "       0.24878518, 0.66915083, 1.98136902, 3.59095931, 5.65271894,\n",
      "       0.30232223, 0.66784231, 2.17954644, 3.6573743 , 5.41931581,\n",
      "       0.24469837, 0.85141238, 2.24240057, 3.49324981, 5.282631  ,\n",
      "       0.27322666, 0.70593611, 1.97473629, 3.51888355, 5.29773831,\n",
      "       0.27694607, 0.71275274, 1.98601055, 3.0626448 , 5.02271612,\n",
      "       0.22304249, 0.50246453, 1.78375777, 3.46151702, 4.99232284,\n",
      "       0.25228294, 0.597241  , 2.00970491, 3.19313169, 5.13887938,\n",
      "       0.26181372, 0.70173637, 1.94737283, 3.45699422, 5.27064943,\n",
      "       0.24987125, 0.5995942 , 2.13652873, 3.20721467, 5.18882386,\n",
      "       0.27085956, 0.67720421, 2.32106153, 3.80953487, 6.23255865,\n",
      "       0.50861192, 0.74674431, 2.22332048, 3.97041257, 5.949169  ,\n",
      "       0.27242359, 0.61991453, 2.39365307, 3.68256704, 5.79332693,\n",
      "       0.25353352, 0.77653551, 2.05541817, 3.73033182, 5.75557494,\n",
      "       0.26399851, 0.72463783, 2.0121568 , 3.80728483, 5.95253348,\n",
      "       0.31893245, 0.61836974, 2.37738379, 3.41486565, 5.55395524,\n",
      "       0.23414175, 0.61865377, 2.01268331, 3.6960907 , 5.51181205,\n",
      "       0.30437446, 0.81944585, 2.02929298, 3.65652466, 5.45190938,\n",
      "       0.29695233, 0.77098457, 2.17652742, 3.38704324, 5.43019875,\n",
      "       0.25184186, 0.75400058, 2.05452124, 3.60910503, 5.46670818,\n",
      "       0.27929838, 0.54545267, 2.21027176, 3.33954597, 5.30521623,\n",
      "       0.22926195, 0.59266098, 2.07894961, 3.43492556, 5.20578329,\n",
      "       0.27018619, 0.67400956, 2.00090694, 3.48683921, 5.41122405,\n",
      "       0.30373542, 0.70138137, 2.19699462, 3.18683418, 5.35890961,\n",
      "       0.2430408 , 0.73101234, 2.12385662, 3.87384081, 5.13810229]), 'std_fit_time': array([0.04032113, 0.09433123, 0.16596746, 0.38328694, 0.46294194,\n",
      "       0.17676054, 0.05771233, 0.2815935 , 0.2518947 , 0.1926569 ,\n",
      "       0.0234476 , 0.27501749, 0.19282801, 0.06818671, 0.71721289,\n",
      "       0.02109839, 0.16643099, 0.10106043, 0.09202002, 0.51420442,\n",
      "       0.03626246, 0.10187381, 0.13315769, 0.42757543, 0.41899661,\n",
      "       0.02035617, 0.07741264, 0.31096169, 0.10667228, 0.76781497,\n",
      "       0.01652034, 0.15705139, 0.11679743, 0.06486309, 0.3256606 ,\n",
      "       0.0461543 , 0.13048708, 0.20426247, 0.27409603, 0.37121965,\n",
      "       0.02551658, 0.38817976, 0.08314533, 0.08205994, 0.53848284,\n",
      "       0.07217227, 0.15520483, 0.01270043, 0.03421363, 0.37132453,\n",
      "       0.03112193, 0.22981523, 0.14485682, 0.11622742, 0.64542459,\n",
      "       0.01526183, 0.03938223, 0.06797648, 0.36198701, 0.25639678,\n",
      "       0.00141686, 0.12037489, 0.15555206, 0.07716559, 0.75169911,\n",
      "       0.03690125, 0.1625229 , 0.05485759, 0.20385297, 0.35861216,\n",
      "       0.01663476, 0.01611523, 0.20521457, 0.1094239 , 0.27072307,\n",
      "       0.02372214, 0.19872881, 0.15774234, 0.29246799, 0.75345182,\n",
      "       0.23212135, 0.22712993, 0.04519234, 0.27824203, 0.34037321,\n",
      "       0.03352034, 0.1289274 , 0.24537288, 0.22580236, 0.63012047,\n",
      "       0.03057145, 0.30489951, 0.17807784, 0.09163678, 0.80051726,\n",
      "       0.02505938, 0.14276483, 0.12143839, 0.02662322, 0.24147712,\n",
      "       0.01654771, 0.12590801, 0.16736112, 0.07120172, 0.84890776,\n",
      "       0.01724374, 0.14298085, 0.11764744, 0.14801946, 0.25359074,\n",
      "       0.06290233, 0.27411493, 0.16863871, 0.24949765, 0.30907723,\n",
      "       0.08068685, 0.28192328, 0.17246233, 0.0921117 , 0.83843259,\n",
      "       0.03105042, 0.11196415, 0.02338229, 0.28429724, 0.27592909,\n",
      "       0.0267879 , 0.07134113, 0.15055937, 0.18549765, 0.43881674,\n",
      "       0.0069725 , 0.11815536, 0.14124552, 0.1398628 , 0.6142224 ,\n",
      "       0.04412756, 0.1252809 , 0.23755404, 0.19341137, 0.25064153,\n",
      "       0.07136179, 0.11731119, 0.08072049, 0.092869  , 0.69328279,\n",
      "       0.02770129, 0.11949046, 0.12876889, 0.14863993, 0.33205599]), 'mean_score_time': array([0.12294698, 0.12565613, 0.22337731, 0.51762207, 0.717254  ,\n",
      "       0.14379223, 0.13958041, 0.38859868, 0.3778228 , 0.6610771 ,\n",
      "       0.22727036, 0.29369076, 0.32626549, 0.41471839, 0.59488765,\n",
      "       0.12173001, 0.12683352, 0.2833    , 0.36601551, 0.5328029 ,\n",
      "       0.18003543, 0.19133933, 0.22249397, 0.41583784, 0.54076362,\n",
      "       0.15682761, 0.15414524, 0.25457946, 0.34480985, 0.5078752 ,\n",
      "       0.12132454, 0.14170837, 0.26130033, 0.38440108, 0.62970487,\n",
      "       0.11552906, 0.16079299, 0.3580513 , 0.35963194, 0.72064002,\n",
      "       0.13629874, 0.11561942, 0.24893649, 0.37321726, 0.62588223,\n",
      "       0.11484774, 0.12781421, 0.22835771, 0.39726742, 0.55201983,\n",
      "       0.11734891, 0.1198616 , 0.26355767, 0.37564882, 0.54151352,\n",
      "       0.14382656, 0.12672591, 0.26547662, 0.42625888, 0.60010306,\n",
      "       0.14463743, 0.19074345, 0.2287027 , 0.38972529, 0.49597494,\n",
      "       0.13767878, 0.12216655, 0.23347537, 0.38773807, 0.58038378,\n",
      "       0.1297617 , 0.15080436, 0.26480365, 0.386813  , 0.53713489,\n",
      "       0.11985302, 0.14805063, 0.2613097 , 0.51900609, 0.60673388,\n",
      "       0.17026599, 0.1690708 , 0.2329634 , 0.40731208, 0.56872678,\n",
      "       0.14297255, 0.16708573, 0.2290535 , 0.37267121, 0.59481303,\n",
      "       0.14289403, 0.16106184, 0.29935265, 0.44181848, 0.59402935,\n",
      "       0.13749441, 0.18787535, 0.22463942, 0.39634951, 0.51907349,\n",
      "       0.12982424, 0.20822851, 0.25037686, 0.35070411, 0.56076082,\n",
      "       0.12610388, 0.1770424 , 0.23398431, 0.42630339, 0.55954695,\n",
      "       0.11588955, 0.14261548, 0.23228844, 0.40882341, 0.5622584 ,\n",
      "       0.11429739, 0.11955023, 0.26540136, 0.34257404, 0.53678862,\n",
      "       0.11819792, 0.17058841, 0.23801668, 0.44337535, 0.59011777,\n",
      "       0.11820857, 0.15035613, 0.26317167, 0.35117936, 0.59006564,\n",
      "       0.14410384, 0.15779662, 0.2201639 , 0.37755259, 0.51434541,\n",
      "       0.12567949, 0.17987521, 0.27137844, 0.37974787, 0.61023211,\n",
      "       0.12567067, 0.14978155, 0.2224048 , 0.37800193, 0.51509706,\n",
      "       0.11675628, 0.17756454, 0.25247375, 0.44544864, 0.55750457]), 'std_score_time': array([0.01176876, 0.01406148, 0.00264467, 0.03167294, 0.06910443,\n",
      "       0.02036188, 0.01952746, 0.06665129, 0.0481527 , 0.03441479,\n",
      "       0.15680621, 0.05425891, 0.08848723, 0.06083859, 0.03622914,\n",
      "       0.01311601, 0.00429384, 0.08195539, 0.02170335, 0.04361763,\n",
      "       0.06216932, 0.05788593, 0.00287144, 0.0309914 , 0.05890932,\n",
      "       0.0374574 , 0.03231254, 0.02512088, 0.00610973, 0.0729194 ,\n",
      "       0.00720757, 0.03017065, 0.02162228, 0.05095884, 0.09300202,\n",
      "       0.00252065, 0.05541894, 0.16731457, 0.02392304, 0.08853785,\n",
      "       0.02564877, 0.00521982, 0.0408861 , 0.06027032, 0.05180496,\n",
      "       0.0011937 , 0.01065814, 0.0074366 , 0.04431493, 0.06244924,\n",
      "       0.00365371, 0.00628763, 0.0462876 , 0.01774799, 0.0463229 ,\n",
      "       0.04531068, 0.01037681, 0.0529895 , 0.0419952 , 0.03159047,\n",
      "       0.03233096, 0.02243903, 0.00691585, 0.03529284, 0.04003271,\n",
      "       0.03521976, 0.00066775, 0.02169148, 0.04699141, 0.06689058,\n",
      "       0.02510838, 0.04967305, 0.02504971, 0.0433691 , 0.03937014,\n",
      "       0.00525731, 0.02729128, 0.03858272, 0.08231341, 0.03687456,\n",
      "       0.03576227, 0.05941738, 0.00574384, 0.04009788, 0.05411156,\n",
      "       0.03853138, 0.05228842, 0.01180594, 0.05690767, 0.09010384,\n",
      "       0.0384427 , 0.04741793, 0.10884016, 0.07172741, 0.03593876,\n",
      "       0.02414842, 0.04475505, 0.00523756, 0.04186142, 0.04392496,\n",
      "       0.01476755, 0.0806055 , 0.01772604, 0.0097482 , 0.04300562,\n",
      "       0.0147084 , 0.02703461, 0.01195703, 0.04010622, 0.0778044 ,\n",
      "       0.00209018, 0.03626391, 0.00902047, 0.05499085, 0.01926446,\n",
      "       0.0006362 , 0.00508482, 0.02980242, 0.00476678, 0.05376869,\n",
      "       0.00505884, 0.04443224, 0.02000521, 0.08191224, 0.04110593,\n",
      "       0.00544067, 0.04963395, 0.01728157, 0.00697442, 0.03289972,\n",
      "       0.04636821, 0.05190362, 0.00565649, 0.06148437, 0.05007116,\n",
      "       0.01007032, 0.07977993, 0.01943111, 0.03200128, 0.04444283,\n",
      "       0.00660925, 0.03201424, 0.00392581, 0.02775957, 0.0491201 ,\n",
      "       0.00222371, 0.01782568, 0.00193653, 0.04626483, 0.12961812]), 'param_criterion': masked_array(data=['gini', 'gini', 'gini', 'gini', 'gini', 'gini', 'gini',\n",
      "                   'gini', 'gini', 'gini', 'gini', 'gini', 'gini', 'gini',\n",
      "                   'gini', 'gini', 'gini', 'gini', 'gini', 'gini', 'gini',\n",
      "                   'gini', 'gini', 'gini', 'gini', 'gini', 'gini', 'gini',\n",
      "                   'gini', 'gini', 'gini', 'gini', 'gini', 'gini', 'gini',\n",
      "                   'gini', 'gini', 'gini', 'gini', 'gini', 'gini', 'gini',\n",
      "                   'gini', 'gini', 'gini', 'gini', 'gini', 'gini', 'gini',\n",
      "                   'gini', 'gini', 'gini', 'gini', 'gini', 'gini', 'gini',\n",
      "                   'gini', 'gini', 'gini', 'gini', 'gini', 'gini', 'gini',\n",
      "                   'gini', 'gini', 'gini', 'gini', 'gini', 'gini', 'gini',\n",
      "                   'gini', 'gini', 'gini', 'gini', 'gini', 'entropy',\n",
      "                   'entropy', 'entropy', 'entropy', 'entropy', 'entropy',\n",
      "                   'entropy', 'entropy', 'entropy', 'entropy', 'entropy',\n",
      "                   'entropy', 'entropy', 'entropy', 'entropy', 'entropy',\n",
      "                   'entropy', 'entropy', 'entropy', 'entropy', 'entropy',\n",
      "                   'entropy', 'entropy', 'entropy', 'entropy', 'entropy',\n",
      "                   'entropy', 'entropy', 'entropy', 'entropy', 'entropy',\n",
      "                   'entropy', 'entropy', 'entropy', 'entropy', 'entropy',\n",
      "                   'entropy', 'entropy', 'entropy', 'entropy', 'entropy',\n",
      "                   'entropy', 'entropy', 'entropy', 'entropy', 'entropy',\n",
      "                   'entropy', 'entropy', 'entropy', 'entropy', 'entropy',\n",
      "                   'entropy', 'entropy', 'entropy', 'entropy', 'entropy',\n",
      "                   'entropy', 'entropy', 'entropy', 'entropy', 'entropy',\n",
      "                   'entropy', 'entropy', 'entropy', 'entropy', 'entropy',\n",
      "                   'entropy', 'entropy', 'entropy', 'entropy', 'entropy',\n",
      "                   'entropy', 'entropy', 'entropy', 'entropy'],\n",
      "             mask=[False, False, False, False, False, False, False, False,\n",
      "                   False, False, False, False, False, False, False, False,\n",
      "                   False, False, False, False, False, False, False, False,\n",
      "                   False, False, False, False, False, False, False, False,\n",
      "                   False, False, False, False, False, False, False, False,\n",
      "                   False, False, False, False, False, False, False, False,\n",
      "                   False, False, False, False, False, False, False, False,\n",
      "                   False, False, False, False, False, False, False, False,\n",
      "                   False, False, False, False, False, False, False, False,\n",
      "                   False, False, False, False, False, False, False, False,\n",
      "                   False, False, False, False, False, False, False, False,\n",
      "                   False, False, False, False, False, False, False, False,\n",
      "                   False, False, False, False, False, False, False, False,\n",
      "                   False, False, False, False, False, False, False, False,\n",
      "                   False, False, False, False, False, False, False, False,\n",
      "                   False, False, False, False, False, False, False, False,\n",
      "                   False, False, False, False, False, False, False, False,\n",
      "                   False, False, False, False, False, False, False, False,\n",
      "                   False, False, False, False, False, False],\n",
      "       fill_value='?',\n",
      "            dtype=object), 'param_min_samples_leaf': masked_array(data=[1, 1, 1, 1, 1, 1, 1, 1, 1, 1, 1, 1, 1, 1, 1, 1, 1, 1,\n",
      "                   1, 1, 1, 1, 1, 1, 1, 5, 5, 5, 5, 5, 5, 5, 5, 5, 5, 5,\n",
      "                   5, 5, 5, 5, 5, 5, 5, 5, 5, 5, 5, 5, 5, 5, 10, 10, 10,\n",
      "                   10, 10, 10, 10, 10, 10, 10, 10, 10, 10, 10, 10, 10, 10,\n",
      "                   10, 10, 10, 10, 10, 10, 10, 10, 1, 1, 1, 1, 1, 1, 1, 1,\n",
      "                   1, 1, 1, 1, 1, 1, 1, 1, 1, 1, 1, 1, 1, 1, 1, 1, 1, 5,\n",
      "                   5, 5, 5, 5, 5, 5, 5, 5, 5, 5, 5, 5, 5, 5, 5, 5, 5, 5,\n",
      "                   5, 5, 5, 5, 5, 5, 10, 10, 10, 10, 10, 10, 10, 10, 10,\n",
      "                   10, 10, 10, 10, 10, 10, 10, 10, 10, 10, 10, 10, 10, 10,\n",
      "                   10, 10],\n",
      "             mask=[False, False, False, False, False, False, False, False,\n",
      "                   False, False, False, False, False, False, False, False,\n",
      "                   False, False, False, False, False, False, False, False,\n",
      "                   False, False, False, False, False, False, False, False,\n",
      "                   False, False, False, False, False, False, False, False,\n",
      "                   False, False, False, False, False, False, False, False,\n",
      "                   False, False, False, False, False, False, False, False,\n",
      "                   False, False, False, False, False, False, False, False,\n",
      "                   False, False, False, False, False, False, False, False,\n",
      "                   False, False, False, False, False, False, False, False,\n",
      "                   False, False, False, False, False, False, False, False,\n",
      "                   False, False, False, False, False, False, False, False,\n",
      "                   False, False, False, False, False, False, False, False,\n",
      "                   False, False, False, False, False, False, False, False,\n",
      "                   False, False, False, False, False, False, False, False,\n",
      "                   False, False, False, False, False, False, False, False,\n",
      "                   False, False, False, False, False, False, False, False,\n",
      "                   False, False, False, False, False, False, False, False,\n",
      "                   False, False, False, False, False, False],\n",
      "       fill_value='?',\n",
      "            dtype=object), 'param_min_samples_split': masked_array(data=[2, 2, 2, 2, 2, 4, 4, 4, 4, 4, 10, 10, 10, 10, 10, 12,\n",
      "                   12, 12, 12, 12, 16, 16, 16, 16, 16, 2, 2, 2, 2, 2, 4,\n",
      "                   4, 4, 4, 4, 10, 10, 10, 10, 10, 12, 12, 12, 12, 12, 16,\n",
      "                   16, 16, 16, 16, 2, 2, 2, 2, 2, 4, 4, 4, 4, 4, 10, 10,\n",
      "                   10, 10, 10, 12, 12, 12, 12, 12, 16, 16, 16, 16, 16, 2,\n",
      "                   2, 2, 2, 2, 4, 4, 4, 4, 4, 10, 10, 10, 10, 10, 12, 12,\n",
      "                   12, 12, 12, 16, 16, 16, 16, 16, 2, 2, 2, 2, 2, 4, 4, 4,\n",
      "                   4, 4, 10, 10, 10, 10, 10, 12, 12, 12, 12, 12, 16, 16,\n",
      "                   16, 16, 16, 2, 2, 2, 2, 2, 4, 4, 4, 4, 4, 10, 10, 10,\n",
      "                   10, 10, 12, 12, 12, 12, 12, 16, 16, 16, 16, 16],\n",
      "             mask=[False, False, False, False, False, False, False, False,\n",
      "                   False, False, False, False, False, False, False, False,\n",
      "                   False, False, False, False, False, False, False, False,\n",
      "                   False, False, False, False, False, False, False, False,\n",
      "                   False, False, False, False, False, False, False, False,\n",
      "                   False, False, False, False, False, False, False, False,\n",
      "                   False, False, False, False, False, False, False, False,\n",
      "                   False, False, False, False, False, False, False, False,\n",
      "                   False, False, False, False, False, False, False, False,\n",
      "                   False, False, False, False, False, False, False, False,\n",
      "                   False, False, False, False, False, False, False, False,\n",
      "                   False, False, False, False, False, False, False, False,\n",
      "                   False, False, False, False, False, False, False, False,\n",
      "                   False, False, False, False, False, False, False, False,\n",
      "                   False, False, False, False, False, False, False, False,\n",
      "                   False, False, False, False, False, False, False, False,\n",
      "                   False, False, False, False, False, False, False, False,\n",
      "                   False, False, False, False, False, False, False, False,\n",
      "                   False, False, False, False, False, False],\n",
      "       fill_value='?',\n",
      "            dtype=object), 'param_n_estimators': masked_array(data=[50, 100, 400, 700, 1000, 50, 100, 400, 700, 1000, 50,\n",
      "                   100, 400, 700, 1000, 50, 100, 400, 700, 1000, 50, 100,\n",
      "                   400, 700, 1000, 50, 100, 400, 700, 1000, 50, 100, 400,\n",
      "                   700, 1000, 50, 100, 400, 700, 1000, 50, 100, 400, 700,\n",
      "                   1000, 50, 100, 400, 700, 1000, 50, 100, 400, 700, 1000,\n",
      "                   50, 100, 400, 700, 1000, 50, 100, 400, 700, 1000, 50,\n",
      "                   100, 400, 700, 1000, 50, 100, 400, 700, 1000, 50, 100,\n",
      "                   400, 700, 1000, 50, 100, 400, 700, 1000, 50, 100, 400,\n",
      "                   700, 1000, 50, 100, 400, 700, 1000, 50, 100, 400, 700,\n",
      "                   1000, 50, 100, 400, 700, 1000, 50, 100, 400, 700, 1000,\n",
      "                   50, 100, 400, 700, 1000, 50, 100, 400, 700, 1000, 50,\n",
      "                   100, 400, 700, 1000, 50, 100, 400, 700, 1000, 50, 100,\n",
      "                   400, 700, 1000, 50, 100, 400, 700, 1000, 50, 100, 400,\n",
      "                   700, 1000, 50, 100, 400, 700, 1000],\n",
      "             mask=[False, False, False, False, False, False, False, False,\n",
      "                   False, False, False, False, False, False, False, False,\n",
      "                   False, False, False, False, False, False, False, False,\n",
      "                   False, False, False, False, False, False, False, False,\n",
      "                   False, False, False, False, False, False, False, False,\n",
      "                   False, False, False, False, False, False, False, False,\n",
      "                   False, False, False, False, False, False, False, False,\n",
      "                   False, False, False, False, False, False, False, False,\n",
      "                   False, False, False, False, False, False, False, False,\n",
      "                   False, False, False, False, False, False, False, False,\n",
      "                   False, False, False, False, False, False, False, False,\n",
      "                   False, False, False, False, False, False, False, False,\n",
      "                   False, False, False, False, False, False, False, False,\n",
      "                   False, False, False, False, False, False, False, False,\n",
      "                   False, False, False, False, False, False, False, False,\n",
      "                   False, False, False, False, False, False, False, False,\n",
      "                   False, False, False, False, False, False, False, False,\n",
      "                   False, False, False, False, False, False, False, False,\n",
      "                   False, False, False, False, False, False],\n",
      "       fill_value='?',\n",
      "            dtype=object), 'params': [{'criterion': 'gini', 'min_samples_leaf': 1, 'min_samples_split': 2, 'n_estimators': 50}, {'criterion': 'gini', 'min_samples_leaf': 1, 'min_samples_split': 2, 'n_estimators': 100}, {'criterion': 'gini', 'min_samples_leaf': 1, 'min_samples_split': 2, 'n_estimators': 400}, {'criterion': 'gini', 'min_samples_leaf': 1, 'min_samples_split': 2, 'n_estimators': 700}, {'criterion': 'gini', 'min_samples_leaf': 1, 'min_samples_split': 2, 'n_estimators': 1000}, {'criterion': 'gini', 'min_samples_leaf': 1, 'min_samples_split': 4, 'n_estimators': 50}, {'criterion': 'gini', 'min_samples_leaf': 1, 'min_samples_split': 4, 'n_estimators': 100}, {'criterion': 'gini', 'min_samples_leaf': 1, 'min_samples_split': 4, 'n_estimators': 400}, {'criterion': 'gini', 'min_samples_leaf': 1, 'min_samples_split': 4, 'n_estimators': 700}, {'criterion': 'gini', 'min_samples_leaf': 1, 'min_samples_split': 4, 'n_estimators': 1000}, {'criterion': 'gini', 'min_samples_leaf': 1, 'min_samples_split': 10, 'n_estimators': 50}, {'criterion': 'gini', 'min_samples_leaf': 1, 'min_samples_split': 10, 'n_estimators': 100}, {'criterion': 'gini', 'min_samples_leaf': 1, 'min_samples_split': 10, 'n_estimators': 400}, {'criterion': 'gini', 'min_samples_leaf': 1, 'min_samples_split': 10, 'n_estimators': 700}, {'criterion': 'gini', 'min_samples_leaf': 1, 'min_samples_split': 10, 'n_estimators': 1000}, {'criterion': 'gini', 'min_samples_leaf': 1, 'min_samples_split': 12, 'n_estimators': 50}, {'criterion': 'gini', 'min_samples_leaf': 1, 'min_samples_split': 12, 'n_estimators': 100}, {'criterion': 'gini', 'min_samples_leaf': 1, 'min_samples_split': 12, 'n_estimators': 400}, {'criterion': 'gini', 'min_samples_leaf': 1, 'min_samples_split': 12, 'n_estimators': 700}, {'criterion': 'gini', 'min_samples_leaf': 1, 'min_samples_split': 12, 'n_estimators': 1000}, {'criterion': 'gini', 'min_samples_leaf': 1, 'min_samples_split': 16, 'n_estimators': 50}, {'criterion': 'gini', 'min_samples_leaf': 1, 'min_samples_split': 16, 'n_estimators': 100}, {'criterion': 'gini', 'min_samples_leaf': 1, 'min_samples_split': 16, 'n_estimators': 400}, {'criterion': 'gini', 'min_samples_leaf': 1, 'min_samples_split': 16, 'n_estimators': 700}, {'criterion': 'gini', 'min_samples_leaf': 1, 'min_samples_split': 16, 'n_estimators': 1000}, {'criterion': 'gini', 'min_samples_leaf': 5, 'min_samples_split': 2, 'n_estimators': 50}, {'criterion': 'gini', 'min_samples_leaf': 5, 'min_samples_split': 2, 'n_estimators': 100}, {'criterion': 'gini', 'min_samples_leaf': 5, 'min_samples_split': 2, 'n_estimators': 400}, {'criterion': 'gini', 'min_samples_leaf': 5, 'min_samples_split': 2, 'n_estimators': 700}, {'criterion': 'gini', 'min_samples_leaf': 5, 'min_samples_split': 2, 'n_estimators': 1000}, {'criterion': 'gini', 'min_samples_leaf': 5, 'min_samples_split': 4, 'n_estimators': 50}, {'criterion': 'gini', 'min_samples_leaf': 5, 'min_samples_split': 4, 'n_estimators': 100}, {'criterion': 'gini', 'min_samples_leaf': 5, 'min_samples_split': 4, 'n_estimators': 400}, {'criterion': 'gini', 'min_samples_leaf': 5, 'min_samples_split': 4, 'n_estimators': 700}, {'criterion': 'gini', 'min_samples_leaf': 5, 'min_samples_split': 4, 'n_estimators': 1000}, {'criterion': 'gini', 'min_samples_leaf': 5, 'min_samples_split': 10, 'n_estimators': 50}, {'criterion': 'gini', 'min_samples_leaf': 5, 'min_samples_split': 10, 'n_estimators': 100}, {'criterion': 'gini', 'min_samples_leaf': 5, 'min_samples_split': 10, 'n_estimators': 400}, {'criterion': 'gini', 'min_samples_leaf': 5, 'min_samples_split': 10, 'n_estimators': 700}, {'criterion': 'gini', 'min_samples_leaf': 5, 'min_samples_split': 10, 'n_estimators': 1000}, {'criterion': 'gini', 'min_samples_leaf': 5, 'min_samples_split': 12, 'n_estimators': 50}, {'criterion': 'gini', 'min_samples_leaf': 5, 'min_samples_split': 12, 'n_estimators': 100}, {'criterion': 'gini', 'min_samples_leaf': 5, 'min_samples_split': 12, 'n_estimators': 400}, {'criterion': 'gini', 'min_samples_leaf': 5, 'min_samples_split': 12, 'n_estimators': 700}, {'criterion': 'gini', 'min_samples_leaf': 5, 'min_samples_split': 12, 'n_estimators': 1000}, {'criterion': 'gini', 'min_samples_leaf': 5, 'min_samples_split': 16, 'n_estimators': 50}, {'criterion': 'gini', 'min_samples_leaf': 5, 'min_samples_split': 16, 'n_estimators': 100}, {'criterion': 'gini', 'min_samples_leaf': 5, 'min_samples_split': 16, 'n_estimators': 400}, {'criterion': 'gini', 'min_samples_leaf': 5, 'min_samples_split': 16, 'n_estimators': 700}, {'criterion': 'gini', 'min_samples_leaf': 5, 'min_samples_split': 16, 'n_estimators': 1000}, {'criterion': 'gini', 'min_samples_leaf': 10, 'min_samples_split': 2, 'n_estimators': 50}, {'criterion': 'gini', 'min_samples_leaf': 10, 'min_samples_split': 2, 'n_estimators': 100}, {'criterion': 'gini', 'min_samples_leaf': 10, 'min_samples_split': 2, 'n_estimators': 400}, {'criterion': 'gini', 'min_samples_leaf': 10, 'min_samples_split': 2, 'n_estimators': 700}, {'criterion': 'gini', 'min_samples_leaf': 10, 'min_samples_split': 2, 'n_estimators': 1000}, {'criterion': 'gini', 'min_samples_leaf': 10, 'min_samples_split': 4, 'n_estimators': 50}, {'criterion': 'gini', 'min_samples_leaf': 10, 'min_samples_split': 4, 'n_estimators': 100}, {'criterion': 'gini', 'min_samples_leaf': 10, 'min_samples_split': 4, 'n_estimators': 400}, {'criterion': 'gini', 'min_samples_leaf': 10, 'min_samples_split': 4, 'n_estimators': 700}, {'criterion': 'gini', 'min_samples_leaf': 10, 'min_samples_split': 4, 'n_estimators': 1000}, {'criterion': 'gini', 'min_samples_leaf': 10, 'min_samples_split': 10, 'n_estimators': 50}, {'criterion': 'gini', 'min_samples_leaf': 10, 'min_samples_split': 10, 'n_estimators': 100}, {'criterion': 'gini', 'min_samples_leaf': 10, 'min_samples_split': 10, 'n_estimators': 400}, {'criterion': 'gini', 'min_samples_leaf': 10, 'min_samples_split': 10, 'n_estimators': 700}, {'criterion': 'gini', 'min_samples_leaf': 10, 'min_samples_split': 10, 'n_estimators': 1000}, {'criterion': 'gini', 'min_samples_leaf': 10, 'min_samples_split': 12, 'n_estimators': 50}, {'criterion': 'gini', 'min_samples_leaf': 10, 'min_samples_split': 12, 'n_estimators': 100}, {'criterion': 'gini', 'min_samples_leaf': 10, 'min_samples_split': 12, 'n_estimators': 400}, {'criterion': 'gini', 'min_samples_leaf': 10, 'min_samples_split': 12, 'n_estimators': 700}, {'criterion': 'gini', 'min_samples_leaf': 10, 'min_samples_split': 12, 'n_estimators': 1000}, {'criterion': 'gini', 'min_samples_leaf': 10, 'min_samples_split': 16, 'n_estimators': 50}, {'criterion': 'gini', 'min_samples_leaf': 10, 'min_samples_split': 16, 'n_estimators': 100}, {'criterion': 'gini', 'min_samples_leaf': 10, 'min_samples_split': 16, 'n_estimators': 400}, {'criterion': 'gini', 'min_samples_leaf': 10, 'min_samples_split': 16, 'n_estimators': 700}, {'criterion': 'gini', 'min_samples_leaf': 10, 'min_samples_split': 16, 'n_estimators': 1000}, {'criterion': 'entropy', 'min_samples_leaf': 1, 'min_samples_split': 2, 'n_estimators': 50}, {'criterion': 'entropy', 'min_samples_leaf': 1, 'min_samples_split': 2, 'n_estimators': 100}, {'criterion': 'entropy', 'min_samples_leaf': 1, 'min_samples_split': 2, 'n_estimators': 400}, {'criterion': 'entropy', 'min_samples_leaf': 1, 'min_samples_split': 2, 'n_estimators': 700}, {'criterion': 'entropy', 'min_samples_leaf': 1, 'min_samples_split': 2, 'n_estimators': 1000}, {'criterion': 'entropy', 'min_samples_leaf': 1, 'min_samples_split': 4, 'n_estimators': 50}, {'criterion': 'entropy', 'min_samples_leaf': 1, 'min_samples_split': 4, 'n_estimators': 100}, {'criterion': 'entropy', 'min_samples_leaf': 1, 'min_samples_split': 4, 'n_estimators': 400}, {'criterion': 'entropy', 'min_samples_leaf': 1, 'min_samples_split': 4, 'n_estimators': 700}, {'criterion': 'entropy', 'min_samples_leaf': 1, 'min_samples_split': 4, 'n_estimators': 1000}, {'criterion': 'entropy', 'min_samples_leaf': 1, 'min_samples_split': 10, 'n_estimators': 50}, {'criterion': 'entropy', 'min_samples_leaf': 1, 'min_samples_split': 10, 'n_estimators': 100}, {'criterion': 'entropy', 'min_samples_leaf': 1, 'min_samples_split': 10, 'n_estimators': 400}, {'criterion': 'entropy', 'min_samples_leaf': 1, 'min_samples_split': 10, 'n_estimators': 700}, {'criterion': 'entropy', 'min_samples_leaf': 1, 'min_samples_split': 10, 'n_estimators': 1000}, {'criterion': 'entropy', 'min_samples_leaf': 1, 'min_samples_split': 12, 'n_estimators': 50}, {'criterion': 'entropy', 'min_samples_leaf': 1, 'min_samples_split': 12, 'n_estimators': 100}, {'criterion': 'entropy', 'min_samples_leaf': 1, 'min_samples_split': 12, 'n_estimators': 400}, {'criterion': 'entropy', 'min_samples_leaf': 1, 'min_samples_split': 12, 'n_estimators': 700}, {'criterion': 'entropy', 'min_samples_leaf': 1, 'min_samples_split': 12, 'n_estimators': 1000}, {'criterion': 'entropy', 'min_samples_leaf': 1, 'min_samples_split': 16, 'n_estimators': 50}, {'criterion': 'entropy', 'min_samples_leaf': 1, 'min_samples_split': 16, 'n_estimators': 100}, {'criterion': 'entropy', 'min_samples_leaf': 1, 'min_samples_split': 16, 'n_estimators': 400}, {'criterion': 'entropy', 'min_samples_leaf': 1, 'min_samples_split': 16, 'n_estimators': 700}, {'criterion': 'entropy', 'min_samples_leaf': 1, 'min_samples_split': 16, 'n_estimators': 1000}, {'criterion': 'entropy', 'min_samples_leaf': 5, 'min_samples_split': 2, 'n_estimators': 50}, {'criterion': 'entropy', 'min_samples_leaf': 5, 'min_samples_split': 2, 'n_estimators': 100}, {'criterion': 'entropy', 'min_samples_leaf': 5, 'min_samples_split': 2, 'n_estimators': 400}, {'criterion': 'entropy', 'min_samples_leaf': 5, 'min_samples_split': 2, 'n_estimators': 700}, {'criterion': 'entropy', 'min_samples_leaf': 5, 'min_samples_split': 2, 'n_estimators': 1000}, {'criterion': 'entropy', 'min_samples_leaf': 5, 'min_samples_split': 4, 'n_estimators': 50}, {'criterion': 'entropy', 'min_samples_leaf': 5, 'min_samples_split': 4, 'n_estimators': 100}, {'criterion': 'entropy', 'min_samples_leaf': 5, 'min_samples_split': 4, 'n_estimators': 400}, {'criterion': 'entropy', 'min_samples_leaf': 5, 'min_samples_split': 4, 'n_estimators': 700}, {'criterion': 'entropy', 'min_samples_leaf': 5, 'min_samples_split': 4, 'n_estimators': 1000}, {'criterion': 'entropy', 'min_samples_leaf': 5, 'min_samples_split': 10, 'n_estimators': 50}, {'criterion': 'entropy', 'min_samples_leaf': 5, 'min_samples_split': 10, 'n_estimators': 100}, {'criterion': 'entropy', 'min_samples_leaf': 5, 'min_samples_split': 10, 'n_estimators': 400}, {'criterion': 'entropy', 'min_samples_leaf': 5, 'min_samples_split': 10, 'n_estimators': 700}, {'criterion': 'entropy', 'min_samples_leaf': 5, 'min_samples_split': 10, 'n_estimators': 1000}, {'criterion': 'entropy', 'min_samples_leaf': 5, 'min_samples_split': 12, 'n_estimators': 50}, {'criterion': 'entropy', 'min_samples_leaf': 5, 'min_samples_split': 12, 'n_estimators': 100}, {'criterion': 'entropy', 'min_samples_leaf': 5, 'min_samples_split': 12, 'n_estimators': 400}, {'criterion': 'entropy', 'min_samples_leaf': 5, 'min_samples_split': 12, 'n_estimators': 700}, {'criterion': 'entropy', 'min_samples_leaf': 5, 'min_samples_split': 12, 'n_estimators': 1000}, {'criterion': 'entropy', 'min_samples_leaf': 5, 'min_samples_split': 16, 'n_estimators': 50}, {'criterion': 'entropy', 'min_samples_leaf': 5, 'min_samples_split': 16, 'n_estimators': 100}, {'criterion': 'entropy', 'min_samples_leaf': 5, 'min_samples_split': 16, 'n_estimators': 400}, {'criterion': 'entropy', 'min_samples_leaf': 5, 'min_samples_split': 16, 'n_estimators': 700}, {'criterion': 'entropy', 'min_samples_leaf': 5, 'min_samples_split': 16, 'n_estimators': 1000}, {'criterion': 'entropy', 'min_samples_leaf': 10, 'min_samples_split': 2, 'n_estimators': 50}, {'criterion': 'entropy', 'min_samples_leaf': 10, 'min_samples_split': 2, 'n_estimators': 100}, {'criterion': 'entropy', 'min_samples_leaf': 10, 'min_samples_split': 2, 'n_estimators': 400}, {'criterion': 'entropy', 'min_samples_leaf': 10, 'min_samples_split': 2, 'n_estimators': 700}, {'criterion': 'entropy', 'min_samples_leaf': 10, 'min_samples_split': 2, 'n_estimators': 1000}, {'criterion': 'entropy', 'min_samples_leaf': 10, 'min_samples_split': 4, 'n_estimators': 50}, {'criterion': 'entropy', 'min_samples_leaf': 10, 'min_samples_split': 4, 'n_estimators': 100}, {'criterion': 'entropy', 'min_samples_leaf': 10, 'min_samples_split': 4, 'n_estimators': 400}, {'criterion': 'entropy', 'min_samples_leaf': 10, 'min_samples_split': 4, 'n_estimators': 700}, {'criterion': 'entropy', 'min_samples_leaf': 10, 'min_samples_split': 4, 'n_estimators': 1000}, {'criterion': 'entropy', 'min_samples_leaf': 10, 'min_samples_split': 10, 'n_estimators': 50}, {'criterion': 'entropy', 'min_samples_leaf': 10, 'min_samples_split': 10, 'n_estimators': 100}, {'criterion': 'entropy', 'min_samples_leaf': 10, 'min_samples_split': 10, 'n_estimators': 400}, {'criterion': 'entropy', 'min_samples_leaf': 10, 'min_samples_split': 10, 'n_estimators': 700}, {'criterion': 'entropy', 'min_samples_leaf': 10, 'min_samples_split': 10, 'n_estimators': 1000}, {'criterion': 'entropy', 'min_samples_leaf': 10, 'min_samples_split': 12, 'n_estimators': 50}, {'criterion': 'entropy', 'min_samples_leaf': 10, 'min_samples_split': 12, 'n_estimators': 100}, {'criterion': 'entropy', 'min_samples_leaf': 10, 'min_samples_split': 12, 'n_estimators': 400}, {'criterion': 'entropy', 'min_samples_leaf': 10, 'min_samples_split': 12, 'n_estimators': 700}, {'criterion': 'entropy', 'min_samples_leaf': 10, 'min_samples_split': 12, 'n_estimators': 1000}, {'criterion': 'entropy', 'min_samples_leaf': 10, 'min_samples_split': 16, 'n_estimators': 50}, {'criterion': 'entropy', 'min_samples_leaf': 10, 'min_samples_split': 16, 'n_estimators': 100}, {'criterion': 'entropy', 'min_samples_leaf': 10, 'min_samples_split': 16, 'n_estimators': 400}, {'criterion': 'entropy', 'min_samples_leaf': 10, 'min_samples_split': 16, 'n_estimators': 700}, {'criterion': 'entropy', 'min_samples_leaf': 10, 'min_samples_split': 16, 'n_estimators': 1000}], 'split0_test_score': array([0.80808081, 0.8013468 , 0.80808081, 0.81481481, 0.8047138 ,\n",
      "       0.81818182, 0.83164983, 0.82491582, 0.82491582, 0.82491582,\n",
      "       0.81144781, 0.81144781, 0.80808081, 0.81481481, 0.81818182,\n",
      "       0.80808081, 0.80808081, 0.81144781, 0.8047138 , 0.80808081,\n",
      "       0.81481481, 0.80808081, 0.80808081, 0.80808081, 0.80808081,\n",
      "       0.82154882, 0.81818182, 0.81818182, 0.81818182, 0.81818182,\n",
      "       0.82154882, 0.81818182, 0.81818182, 0.81818182, 0.81818182,\n",
      "       0.82154882, 0.81818182, 0.81818182, 0.81818182, 0.81818182,\n",
      "       0.83164983, 0.82491582, 0.81818182, 0.81818182, 0.81818182,\n",
      "       0.83164983, 0.82828283, 0.81481481, 0.81818182, 0.82154882,\n",
      "       0.81818182, 0.82154882, 0.81144781, 0.81481481, 0.81144781,\n",
      "       0.81818182, 0.82154882, 0.81144781, 0.81481481, 0.81144781,\n",
      "       0.81818182, 0.82154882, 0.81144781, 0.81481481, 0.81144781,\n",
      "       0.81818182, 0.82154882, 0.81144781, 0.81481481, 0.81144781,\n",
      "       0.81818182, 0.82154882, 0.81144781, 0.81481481, 0.81144781,\n",
      "       0.8013468 , 0.80808081, 0.81144781, 0.81144781, 0.80808081,\n",
      "       0.81144781, 0.80808081, 0.82491582, 0.82491582, 0.82491582,\n",
      "       0.80808081, 0.80808081, 0.81144781, 0.81144781, 0.81144781,\n",
      "       0.82828283, 0.81481481, 0.81144781, 0.81481481, 0.81481481,\n",
      "       0.80808081, 0.80808081, 0.81481481, 0.81481481, 0.81144781,\n",
      "       0.80808081, 0.81144781, 0.80808081, 0.81144781, 0.81481481,\n",
      "       0.80808081, 0.81144781, 0.80808081, 0.81144781, 0.81481481,\n",
      "       0.80808081, 0.81144781, 0.80808081, 0.81144781, 0.81481481,\n",
      "       0.81818182, 0.80808081, 0.81144781, 0.81144781, 0.81818182,\n",
      "       0.8047138 , 0.81144781, 0.81144781, 0.81144781, 0.81481481,\n",
      "       0.82828283, 0.82154882, 0.80808081, 0.80808081, 0.80808081,\n",
      "       0.82828283, 0.82154882, 0.80808081, 0.80808081, 0.80808081,\n",
      "       0.82828283, 0.82154882, 0.80808081, 0.80808081, 0.80808081,\n",
      "       0.82828283, 0.82154882, 0.80808081, 0.80808081, 0.80808081,\n",
      "       0.82828283, 0.82154882, 0.80808081, 0.80808081, 0.80808081]), 'split1_test_score': array([0.84511785, 0.85185185, 0.85858586, 0.85521886, 0.85521886,\n",
      "       0.84848485, 0.84175084, 0.85185185, 0.85185185, 0.84848485,\n",
      "       0.85185185, 0.84848485, 0.85521886, 0.85858586, 0.85858586,\n",
      "       0.83164983, 0.83838384, 0.84511785, 0.85185185, 0.85185185,\n",
      "       0.85858586, 0.84511785, 0.83838384, 0.84848485, 0.84511785,\n",
      "       0.82828283, 0.82828283, 0.83838384, 0.83838384, 0.83501684,\n",
      "       0.82828283, 0.82828283, 0.83838384, 0.83838384, 0.83501684,\n",
      "       0.82828283, 0.82828283, 0.83838384, 0.83838384, 0.83501684,\n",
      "       0.83164983, 0.83838384, 0.83164983, 0.84175084, 0.83501684,\n",
      "       0.82828283, 0.83164983, 0.83501684, 0.83501684, 0.83838384,\n",
      "       0.81818182, 0.83501684, 0.83164983, 0.83164983, 0.83164983,\n",
      "       0.81818182, 0.83501684, 0.83164983, 0.83164983, 0.83164983,\n",
      "       0.81818182, 0.83501684, 0.83164983, 0.83164983, 0.83164983,\n",
      "       0.81818182, 0.83501684, 0.83164983, 0.83164983, 0.83164983,\n",
      "       0.81818182, 0.83501684, 0.83164983, 0.83164983, 0.83164983,\n",
      "       0.83838384, 0.84511785, 0.85858586, 0.86195286, 0.86195286,\n",
      "       0.84511785, 0.86195286, 0.84848485, 0.84848485, 0.84848485,\n",
      "       0.84175084, 0.84175084, 0.84511785, 0.84848485, 0.84848485,\n",
      "       0.85185185, 0.85521886, 0.84848485, 0.84848485, 0.85521886,\n",
      "       0.84511785, 0.84848485, 0.84511785, 0.85185185, 0.84511785,\n",
      "       0.83501684, 0.84511785, 0.83501684, 0.83164983, 0.83501684,\n",
      "       0.83501684, 0.84511785, 0.83501684, 0.83164983, 0.83501684,\n",
      "       0.83501684, 0.84511785, 0.83501684, 0.83164983, 0.83501684,\n",
      "       0.82828283, 0.84848485, 0.83838384, 0.83501684, 0.83501684,\n",
      "       0.83501684, 0.84511785, 0.83164983, 0.83838384, 0.83838384,\n",
      "       0.83164983, 0.83164983, 0.83501684, 0.83164983, 0.82828283,\n",
      "       0.83164983, 0.83164983, 0.83501684, 0.83164983, 0.82828283,\n",
      "       0.83164983, 0.83164983, 0.83501684, 0.83164983, 0.82828283,\n",
      "       0.83164983, 0.83164983, 0.83501684, 0.83164983, 0.82828283,\n",
      "       0.83164983, 0.83164983, 0.83501684, 0.83164983, 0.82828283]), 'split2_test_score': array([0.82491582, 0.82828283, 0.83164983, 0.82828283, 0.82491582,\n",
      "       0.84511785, 0.83838384, 0.83164983, 0.83501684, 0.83501684,\n",
      "       0.84175084, 0.84511785, 0.83838384, 0.84175084, 0.83838384,\n",
      "       0.84175084, 0.84511785, 0.84175084, 0.84175084, 0.84175084,\n",
      "       0.82828283, 0.84511785, 0.83838384, 0.83501684, 0.83838384,\n",
      "       0.82154882, 0.82828283, 0.81481481, 0.81481481, 0.82154882,\n",
      "       0.82154882, 0.82828283, 0.81481481, 0.81481481, 0.82154882,\n",
      "       0.82154882, 0.82828283, 0.81481481, 0.81481481, 0.82154882,\n",
      "       0.81818182, 0.81818182, 0.81481481, 0.81481481, 0.81481481,\n",
      "       0.81144781, 0.80808081, 0.81818182, 0.81481481, 0.81818182,\n",
      "       0.82491582, 0.80808081, 0.7979798 , 0.7979798 , 0.7979798 ,\n",
      "       0.82491582, 0.80808081, 0.7979798 , 0.7979798 , 0.7979798 ,\n",
      "       0.82491582, 0.80808081, 0.7979798 , 0.7979798 , 0.7979798 ,\n",
      "       0.82491582, 0.80808081, 0.7979798 , 0.7979798 , 0.7979798 ,\n",
      "       0.82491582, 0.80808081, 0.7979798 , 0.7979798 , 0.7979798 ,\n",
      "       0.83838384, 0.82828283, 0.82828283, 0.82491582, 0.82154882,\n",
      "       0.82828283, 0.83838384, 0.84175084, 0.83501684, 0.83164983,\n",
      "       0.83838384, 0.84511785, 0.83501684, 0.84511785, 0.83838384,\n",
      "       0.83501684, 0.83501684, 0.84175084, 0.84175084, 0.84175084,\n",
      "       0.84175084, 0.85185185, 0.84175084, 0.83838384, 0.83838384,\n",
      "       0.81818182, 0.81818182, 0.81144781, 0.81481481, 0.81818182,\n",
      "       0.81818182, 0.81818182, 0.81144781, 0.81481481, 0.81818182,\n",
      "       0.81818182, 0.81818182, 0.81144781, 0.81481481, 0.81818182,\n",
      "       0.82154882, 0.82491582, 0.82154882, 0.82491582, 0.82491582,\n",
      "       0.83164983, 0.82154882, 0.82828283, 0.82154882, 0.82154882,\n",
      "       0.81818182, 0.8013468 , 0.7979798 , 0.7979798 , 0.7979798 ,\n",
      "       0.81818182, 0.8013468 , 0.7979798 , 0.7979798 , 0.7979798 ,\n",
      "       0.81818182, 0.8013468 , 0.7979798 , 0.7979798 , 0.7979798 ,\n",
      "       0.81818182, 0.8013468 , 0.7979798 , 0.7979798 , 0.7979798 ,\n",
      "       0.81818182, 0.8013468 , 0.7979798 , 0.7979798 , 0.7979798 ]), 'mean_test_score': array([0.82603816, 0.82716049, 0.83277217, 0.83277217, 0.82828283,\n",
      "       0.8372615 , 0.8372615 , 0.83613917, 0.8372615 , 0.83613917,\n",
      "       0.83501684, 0.83501684, 0.8338945 , 0.83838384, 0.83838384,\n",
      "       0.82716049, 0.8305275 , 0.83277217, 0.83277217, 0.8338945 ,\n",
      "       0.8338945 , 0.83277217, 0.82828283, 0.8305275 , 0.8305275 ,\n",
      "       0.82379349, 0.82491582, 0.82379349, 0.82379349, 0.82491582,\n",
      "       0.82379349, 0.82491582, 0.82379349, 0.82379349, 0.82491582,\n",
      "       0.82379349, 0.82491582, 0.82379349, 0.82379349, 0.82491582,\n",
      "       0.82716049, 0.82716049, 0.82154882, 0.82491582, 0.82267116,\n",
      "       0.82379349, 0.82267116, 0.82267116, 0.82267116, 0.82603816,\n",
      "       0.82042649, 0.82154882, 0.81369248, 0.81481481, 0.81369248,\n",
      "       0.82042649, 0.82154882, 0.81369248, 0.81481481, 0.81369248,\n",
      "       0.82042649, 0.82154882, 0.81369248, 0.81481481, 0.81369248,\n",
      "       0.82042649, 0.82154882, 0.81369248, 0.81481481, 0.81369248,\n",
      "       0.82042649, 0.82154882, 0.81369248, 0.81481481, 0.81369248,\n",
      "       0.82603816, 0.82716049, 0.83277217, 0.83277217, 0.8305275 ,\n",
      "       0.82828283, 0.83613917, 0.83838384, 0.83613917, 0.83501684,\n",
      "       0.82940516, 0.83164983, 0.8305275 , 0.83501684, 0.83277217,\n",
      "       0.83838384, 0.83501684, 0.8338945 , 0.83501684, 0.8372615 ,\n",
      "       0.83164983, 0.83613917, 0.8338945 , 0.83501684, 0.83164983,\n",
      "       0.82042649, 0.82491582, 0.81818182, 0.81930415, 0.82267116,\n",
      "       0.82042649, 0.82491582, 0.81818182, 0.81930415, 0.82267116,\n",
      "       0.82042649, 0.82491582, 0.81818182, 0.81930415, 0.82267116,\n",
      "       0.82267116, 0.82716049, 0.82379349, 0.82379349, 0.82603816,\n",
      "       0.82379349, 0.82603816, 0.82379349, 0.82379349, 0.82491582,\n",
      "       0.82603816, 0.81818182, 0.81369248, 0.81257015, 0.81144781,\n",
      "       0.82603816, 0.81818182, 0.81369248, 0.81257015, 0.81144781,\n",
      "       0.82603816, 0.81818182, 0.81369248, 0.81257015, 0.81144781,\n",
      "       0.82603816, 0.81818182, 0.81369248, 0.81257015, 0.81144781,\n",
      "       0.82603816, 0.81818182, 0.81369248, 0.81257015, 0.81144781]), 'std_test_score': array([0.01514112, 0.02063387, 0.02063387, 0.01679756, 0.0207556 ,\n",
      "       0.01356122, 0.00419939, 0.01144561, 0.01111054, 0.00965469,\n",
      "       0.01716842, 0.01672241, 0.01950409, 0.01802736, 0.01649488,\n",
      "       0.01410753, 0.01610853, 0.01514112, 0.02026428, 0.01871305,\n",
      "       0.01830472, 0.01745943, 0.01428499, 0.01679756, 0.01610853,\n",
      "       0.00317444, 0.00476166, 0.0104081 , 0.0104081 , 0.00727356,\n",
      "       0.00317444, 0.00476166, 0.0104081 , 0.0104081 , 0.00727356,\n",
      "       0.00317444, 0.00476166, 0.0104081 , 0.0104081 , 0.00727356,\n",
      "       0.00634888, 0.00839878, 0.00727356, 0.01198325, 0.00883727,\n",
      "       0.00883727, 0.0104081 , 0.00883727, 0.00883727, 0.00883727,\n",
      "       0.00317444, 0.01099659, 0.01383707, 0.01374573, 0.01383707,\n",
      "       0.00317444, 0.01099659, 0.01383707, 0.01374573, 0.01383707,\n",
      "       0.00317444, 0.01099659, 0.01383707, 0.01374573, 0.01383707,\n",
      "       0.00317444, 0.01099659, 0.01383707, 0.01374573, 0.01383707,\n",
      "       0.00317444, 0.01099659, 0.01383707, 0.01374573, 0.01383707,\n",
      "       0.01745943, 0.01514112, 0.01950409, 0.02135387, 0.02289122,\n",
      "       0.01374573, 0.02205037, 0.00991219, 0.00965469, 0.00991219,\n",
      "       0.01514112, 0.01672241, 0.01410753, 0.01672241, 0.01563231,\n",
      "       0.00991219, 0.01649488, 0.01610853, 0.01454712, 0.01679756,\n",
      "       0.01672241, 0.01988782, 0.01356122, 0.0153066 , 0.01454712,\n",
      "       0.01111054, 0.01454712, 0.01198325, 0.00883727, 0.00883727,\n",
      "       0.01111054, 0.01454712, 0.01198325, 0.00883727, 0.00883727,\n",
      "       0.01111054, 0.01454712, 0.01198325, 0.00883727, 0.00883727,\n",
      "       0.00419939, 0.01657107, 0.01111054, 0.00965469, 0.00691853,\n",
      "       0.01356122, 0.01410753, 0.00883727, 0.01111054, 0.00991219,\n",
      "       0.00572281, 0.01259817, 0.01563231, 0.01410753, 0.01259817,\n",
      "       0.00572281, 0.01259817, 0.01563231, 0.01410753, 0.01259817,\n",
      "       0.00572281, 0.01259817, 0.01563231, 0.01410753, 0.01259817,\n",
      "       0.00572281, 0.01259817, 0.01563231, 0.01410753, 0.01259817,\n",
      "       0.00572281, 0.01259817, 0.01563231, 0.01410753, 0.01259817]), 'rank_test_score': array([ 52,  46,  26,  26,  43,   5,   5,   9,   5,   9,  14,  14,  21,\n",
      "         1,   1,  46,  37,  26,  26,  21,  21,  26,  43,  37,  37,  73,\n",
      "        62,  73,  73,  62,  73,  62,  73,  73,  62,  73,  62,  73,  73,\n",
      "        62,  46,  46,  96,  62,  88,  73,  88,  88,  88,  52, 102,  96,\n",
      "       126, 121, 126, 102,  96, 126, 121, 126, 102,  96, 126, 121, 126,\n",
      "       102,  96, 126, 121, 126, 102,  96, 126, 121, 126,  52,  46,  26,\n",
      "        26,  37,  43,   9,   1,   9,  14,  42,  34,  37,  14,  26,   1,\n",
      "        14,  21,  14,   5,  34,   9,  21,  14,  34, 102,  62, 113, 110,\n",
      "        88, 102,  62, 113, 110,  88, 102,  62, 113, 110,  88,  88,  46,\n",
      "        73,  73,  52,  73,  52,  73,  73,  62,  52, 113, 126, 141, 146,\n",
      "        52, 113, 126, 141, 146,  52, 113, 126, 141, 146,  52, 113, 126,\n",
      "       141, 146,  52, 113, 126, 141, 146])}\n"
     ]
    }
   ],
   "source": [
    "print(\"best_score: \", gs.best_score_)\n",
    "print(\"best_params: \", gs.best_params_)\n",
    "print(\"cv_results: \", gs.cv_results_)"
   ]
  },
  {
   "cell_type": "code",
   "execution_count": 70,
   "metadata": {},
   "outputs": [
    {
     "name": "stdout",
     "output_type": "stream",
     "text": [
      "0.8294\n"
     ]
    }
   ],
   "source": [
    "from sklearn.ensemble import RandomForestClassifier\n",
    "\n",
    "rf = RandomForestClassifier(criterion='gini', \n",
    "                             n_estimators=700,\n",
    "                             min_samples_split=10,\n",
    "                             min_samples_leaf=1,\n",
    "                             max_features='auto',\n",
    "                             oob_score=True,\n",
    "                             random_state=1,\n",
    "                             n_jobs=-1)\n",
    "rf.fit(train.iloc[:, 1:], train.iloc[:, 0])\n",
    "print(\"%.4f\" % rf.oob_score_)"
   ]
  },
  {
   "cell_type": "code",
   "execution_count": 71,
   "metadata": {},
   "outputs": [
    {
     "data": {
      "text/html": [
       "<div>\n",
       "<style scoped>\n",
       "    .dataframe tbody tr th:only-of-type {\n",
       "        vertical-align: middle;\n",
       "    }\n",
       "\n",
       "    .dataframe tbody tr th {\n",
       "        vertical-align: top;\n",
       "    }\n",
       "\n",
       "    .dataframe thead th {\n",
       "        text-align: right;\n",
       "    }\n",
       "</style>\n",
       "<table border=\"1\" class=\"dataframe\">\n",
       "  <thead>\n",
       "    <tr style=\"text-align: right;\">\n",
       "      <th></th>\n",
       "      <th>variable</th>\n",
       "      <th>importance</th>\n",
       "    </tr>\n",
       "  </thead>\n",
       "  <tbody>\n",
       "    <tr>\n",
       "      <td>12</td>\n",
       "      <td>Sex_female</td>\n",
       "      <td>0.111215</td>\n",
       "    </tr>\n",
       "    <tr>\n",
       "      <td>11</td>\n",
       "      <td>Sex_male</td>\n",
       "      <td>0.109769</td>\n",
       "    </tr>\n",
       "    <tr>\n",
       "      <td>33</td>\n",
       "      <td>Name_Title_Mr.</td>\n",
       "      <td>0.109746</td>\n",
       "    </tr>\n",
       "    <tr>\n",
       "      <td>1</td>\n",
       "      <td>Fare</td>\n",
       "      <td>0.088209</td>\n",
       "    </tr>\n",
       "    <tr>\n",
       "      <td>2</td>\n",
       "      <td>Name_Len</td>\n",
       "      <td>0.087904</td>\n",
       "    </tr>\n",
       "    <tr>\n",
       "      <td>0</td>\n",
       "      <td>Age</td>\n",
       "      <td>0.078651</td>\n",
       "    </tr>\n",
       "    <tr>\n",
       "      <td>8</td>\n",
       "      <td>Pclass_3</td>\n",
       "      <td>0.043268</td>\n",
       "    </tr>\n",
       "    <tr>\n",
       "      <td>35</td>\n",
       "      <td>Name_Title_Miss.</td>\n",
       "      <td>0.031292</td>\n",
       "    </tr>\n",
       "    <tr>\n",
       "      <td>7</td>\n",
       "      <td>Ticket_Len</td>\n",
       "      <td>0.031079</td>\n",
       "    </tr>\n",
       "    <tr>\n",
       "      <td>34</td>\n",
       "      <td>Name_Title_Mrs.</td>\n",
       "      <td>0.028852</td>\n",
       "    </tr>\n",
       "    <tr>\n",
       "      <td>25</td>\n",
       "      <td>Cabin_Letter_n</td>\n",
       "      <td>0.027893</td>\n",
       "    </tr>\n",
       "    <tr>\n",
       "      <td>43</td>\n",
       "      <td>Fam_Size_Big</td>\n",
       "      <td>0.025199</td>\n",
       "    </tr>\n",
       "    <tr>\n",
       "      <td>41</td>\n",
       "      <td>Fam_Size_Nuclear</td>\n",
       "      <td>0.022704</td>\n",
       "    </tr>\n",
       "    <tr>\n",
       "      <td>9</td>\n",
       "      <td>Pclass_1</td>\n",
       "      <td>0.021810</td>\n",
       "    </tr>\n",
       "    <tr>\n",
       "      <td>19</td>\n",
       "      <td>Ticket_Lett_1</td>\n",
       "      <td>0.017999</td>\n",
       "    </tr>\n",
       "    <tr>\n",
       "      <td>20</td>\n",
       "      <td>Ticket_Lett_3</td>\n",
       "      <td>0.012902</td>\n",
       "    </tr>\n",
       "    <tr>\n",
       "      <td>10</td>\n",
       "      <td>Pclass_2</td>\n",
       "      <td>0.012345</td>\n",
       "    </tr>\n",
       "    <tr>\n",
       "      <td>36</td>\n",
       "      <td>Name_Title_Master.</td>\n",
       "      <td>0.012098</td>\n",
       "    </tr>\n",
       "    <tr>\n",
       "      <td>23</td>\n",
       "      <td>Ticket_Lett_Low_ticket</td>\n",
       "      <td>0.011723</td>\n",
       "    </tr>\n",
       "    <tr>\n",
       "      <td>13</td>\n",
       "      <td>Embarked_S</td>\n",
       "      <td>0.011546</td>\n",
       "    </tr>\n",
       "  </tbody>\n",
       "</table>\n",
       "</div>"
      ],
      "text/plain": [
       "                  variable  importance\n",
       "12              Sex_female    0.111215\n",
       "11                Sex_male    0.109769\n",
       "33          Name_Title_Mr.    0.109746\n",
       "1                     Fare    0.088209\n",
       "2                 Name_Len    0.087904\n",
       "0                      Age    0.078651\n",
       "8                 Pclass_3    0.043268\n",
       "35        Name_Title_Miss.    0.031292\n",
       "7               Ticket_Len    0.031079\n",
       "34         Name_Title_Mrs.    0.028852\n",
       "25          Cabin_Letter_n    0.027893\n",
       "43            Fam_Size_Big    0.025199\n",
       "41        Fam_Size_Nuclear    0.022704\n",
       "9                 Pclass_1    0.021810\n",
       "19           Ticket_Lett_1    0.017999\n",
       "20           Ticket_Lett_3    0.012902\n",
       "10                Pclass_2    0.012345\n",
       "36      Name_Title_Master.    0.012098\n",
       "23  Ticket_Lett_Low_ticket    0.011723\n",
       "13              Embarked_S    0.011546"
      ]
     },
     "execution_count": 71,
     "metadata": {},
     "output_type": "execute_result"
    }
   ],
   "source": [
    "pd.concat((pd.DataFrame(train.iloc[:, 1:].columns, columns = ['variable']), \n",
    "           pd.DataFrame(rf.feature_importances_, columns = ['importance'])), \n",
    "          axis = 1).sort_values(by='importance', ascending = False)[:20]"
   ]
  },
  {
   "cell_type": "code",
   "execution_count": 73,
   "metadata": {},
   "outputs": [],
   "source": [
    "predictions = rf.predict(test)\n",
    "predictions = pd.DataFrame(predictions, columns=['Survived'])\n",
    "test = pd.read_csv(os.path.join(\"C:/Users/agnis/Downloads/test.csv\"))\n",
    "predictions = pd.concat((test.iloc[:, 0], predictions), axis = 1)\n",
    "predictions.to_csv('y_test15.csv', sep=\",\", index = False)"
   ]
  },
  {
   "cell_type": "code",
   "execution_count": null,
   "metadata": {},
   "outputs": [],
   "source": []
  }
 ],
 "metadata": {
  "kernelspec": {
   "display_name": "Python 3",
   "language": "python",
   "name": "python3"
  },
  "language_info": {
   "codemirror_mode": {
    "name": "ipython",
    "version": 3
   },
   "file_extension": ".py",
   "mimetype": "text/x-python",
   "name": "python",
   "nbconvert_exporter": "python",
   "pygments_lexer": "ipython3",
   "version": "3.7.4"
  }
 },
 "nbformat": 4,
 "nbformat_minor": 2
}
