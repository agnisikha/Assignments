{
 "cells": [
  {
   "cell_type": "markdown",
   "metadata": {
    "colab_type": "text",
    "id": "XGBVYrawhHNF"
   },
   "source": [
    "<h4> Problem statement </h4>\n",
    "A hospital wants to determine whether there is any difference in the average Turn Around Time (TAT) of reports of the laboratories on their preferred list. They collected a random sample and recorded TAT for reports of 4 laboratories. TAT is defined as sample collected to report dispatch. Analyze the data and determine whether there is any difference in average TAT among the different laboratories at 5% significance level."
   ]
  },
  {
   "cell_type": "code",
   "execution_count": 3,
   "metadata": {
    "colab": {},
    "colab_type": "code",
    "id": "gaibS_IAgqS9"
   },
   "outputs": [],
   "source": [
    "import pandas as pd\n",
    "import numpy as np"
   ]
  },
  {
   "cell_type": "code",
   "execution_count": 4,
   "metadata": {
    "colab": {
     "base_uri": "https://localhost:8080/",
     "height": 127
    },
    "colab_type": "code",
    "id": "j7YcrYF6hsf0",
    "outputId": "8dae8ed9-00e8-4e58-dac2-5dd36c30436b"
   },
   "outputs": [
    {
     "name": "stdout",
     "output_type": "stream",
     "text": [
      "   Laboratory 1  Laboratory 2  Laboratory 3  Laboratory 4\n",
      "0        185.35        165.53        176.70        166.13\n",
      "1        170.49        185.91        198.45        160.79\n",
      "2        192.77        194.92        201.23        185.18\n",
      "3        177.33        183.00        199.61        176.42\n",
      "4        193.41        169.57        204.63        152.60\n"
     ]
    }
   ],
   "source": [
    "labDF = pd.read_csv(\"/content/drive/My Drive/DS/Assignments/HypothesisTesting/LabTAT.csv\")\n",
    "print(labDF.head())"
   ]
  },
  {
   "cell_type": "markdown",
   "metadata": {
    "colab_type": "text",
    "id": "65scm912h5y8"
   },
   "source": [
    "According to problem statement, the hypothesis can be formed as: <br> \n",
    "H<sub>o</sub> => &mu;<sub>1</sub> = &mu;<sub>2</sub> = &mu;<sub>3</sub> = &mu;<sub>4</sub> => TAT is same. <br>\n",
    "H<sub>A</sub> => &mu;<sub>1</sub> &ne; &mu;<sub>2</sub> &ne; &mu;<sub>3</sub> &ne; &mu;<sub>4</sub> => TAT is different. <br>\n",
    "&alpha; = 0.05 (Significance level).<br>"
   ]
  },
  {
   "cell_type": "code",
   "execution_count": 5,
   "metadata": {
    "colab": {
     "base_uri": "https://localhost:8080/",
     "height": 35
    },
    "colab_type": "code",
    "id": "CI__FH-Y10qX",
    "outputId": "c49e5aef-7479-4605-ac6d-e7920309f02b"
   },
   "outputs": [
    {
     "name": "stdout",
     "output_type": "stream",
     "text": [
      "Lab1: 178.36158333333339, Lab2: 178.9029166666668, Lab3: 199.91325000000003, Lab4: 163.6827499999999\n"
     ]
    }
   ],
   "source": [
    "print(f\"Lab1: {labDF['Laboratory 1'].mean()}, Lab2: {labDF['Laboratory 2'].mean()}, Lab3: {labDF['Laboratory 3'].mean()}, Lab4: {labDF['Laboratory 4'].mean()}\")"
   ]
  },
  {
   "cell_type": "code",
   "execution_count": 6,
   "metadata": {
    "colab": {
     "base_uri": "https://localhost:8080/",
     "height": 35
    },
    "colab_type": "code",
    "id": "6gQbBFwg4HaA",
    "outputId": "f625adec-0a05-43e8-8a38-0cbb13f31c26"
   },
   "outputs": [
    {
     "name": "stdout",
     "output_type": "stream",
     "text": [
      "P-values Lab1: 0.5506953597068787, Lab2: 0.8637524843215942, Lab3: 0.4205053448677063, Lab4: 0.6618951559066772\n"
     ]
    }
   ],
   "source": [
    "from scipy import stats\n",
    "# Check for normality\n",
    "# Null hypothesis => Data is normally distributed\n",
    "# Alt hypothesis => Data is not normally distributed\n",
    "lab1Norm = stats.shapiro(labDF[\"Laboratory 1\"])\n",
    "lab2Norm = stats.shapiro(labDF[\"Laboratory 2\"])\n",
    "lab3Norm = stats.shapiro(labDF[\"Laboratory 3\"])\n",
    "lab4Norm = stats.shapiro(labDF[\"Laboratory 4\"])\n",
    "print(\"P-values Lab1: {}, Lab2: {}, Lab3: {}, Lab4: {}\".format(lab1Norm[1], lab2Norm[1], lab3Norm[1], lab4Norm[1]))"
   ]
  },
  {
   "cell_type": "markdown",
   "metadata": {
    "colab_type": "text",
    "id": "CLsBDoK58jpX"
   },
   "source": [
    "Since the p-values for all the 4 samples are above significance level of 0.05, the null hypothesis is accepted.<br>\n",
    "All the 4 samples are normally distributed."
   ]
  },
  {
   "cell_type": "code",
   "execution_count": 7,
   "metadata": {
    "colab": {
     "base_uri": "https://localhost:8080/",
     "height": 35
    },
    "colab_type": "code",
    "id": "r8IUPfu19AD4",
    "outputId": "65701021-3a78-41b1-ef57-11348bc94937"
   },
   "outputs": [
    {
     "name": "stdout",
     "output_type": "stream",
     "text": [
      "LeveneResult(statistic=2.599642500418024, pvalue=0.05161343808309816)\n"
     ]
    }
   ],
   "source": [
    "# Checking for equal variance.\n",
    "# Null hypothesis => Samples have equal variance.\n",
    "# Alt hypothesis => Samples have unequal variance.\n",
    "print(stats.levene(labDF[\"Laboratory 1\"], labDF[\"Laboratory 2\"], labDF[\"Laboratory 3\"], labDF[\"Laboratory 4\"]))"
   ]
  },
  {
   "cell_type": "markdown",
   "metadata": {
    "colab_type": "text",
    "id": "p94UjEE5C6sQ"
   },
   "source": [
    "Since the p-value is above the significance value, we accept the null hypothesis i.e. the variances are equal. "
   ]
  },
  {
   "cell_type": "code",
   "execution_count": 8,
   "metadata": {
    "colab": {
     "base_uri": "https://localhost:8080/",
     "height": 35
    },
    "colab_type": "code",
    "id": "2nPlRImkDKhy",
    "outputId": "e87b95a6-8f74-4d1d-e36a-336640c228df"
   },
   "outputs": [
    {
     "name": "stdout",
     "output_type": "stream",
     "text": [
      "F_onewayResult(statistic=118.70421654401437, pvalue=2.1156708949992414e-57)\n"
     ]
    }
   ],
   "source": [
    "# Performing ANNOVA test to verify hypothesis.\n",
    "anovaTest = stats.f_oneway(labDF[\"Laboratory 1\"], labDF[\"Laboratory 2\"], labDF[\"Laboratory 3\"], labDF[\"Laboratory 4\"])\n",
    "print(anovaTest)"
   ]
  },
  {
   "cell_type": "markdown",
   "metadata": {
    "colab_type": "text",
    "id": "WYJAzGLqJ1Uq"
   },
   "source": [
    "The p-value is much higher than the significance level of 0.05. Hence accepting the null hypothesis. <br>\n",
    "<strong>The test concluds that the average TAT is similar. "
   ]
  }
 ],
 "metadata": {
  "colab": {
   "collapsed_sections": [],
   "name": "HypothesisQ2.ipynb",
   "provenance": []
  },
  "kernelspec": {
   "display_name": "Python 3",
   "language": "python",
   "name": "python3"
  },
  "language_info": {
   "codemirror_mode": {
    "name": "ipython",
    "version": 3
   },
   "file_extension": ".py",
   "mimetype": "text/x-python",
   "name": "python",
   "nbconvert_exporter": "python",
   "pygments_lexer": "ipython3",
   "version": "3.7.4"
  }
 },
 "nbformat": 4,
 "nbformat_minor": 1
}
