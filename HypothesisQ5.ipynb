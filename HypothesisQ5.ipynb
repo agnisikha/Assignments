{
 "cells": [
  {
   "cell_type": "markdown",
   "metadata": {
    "id": "xzqkIv6K2X6y"
   },
   "source": [
    "<h4>Problem statement</h4>\n",
    "Fantaloons Sales managers commented that % of males versus females walking in to the store differ based on day of the week. Analyze the data and determine whether there is evidence at 5 % significance level to support this hypothesis."
   ]
  },
  {
   "cell_type": "code",
   "execution_count": null,
   "metadata": {
    "id": "tPDVqWsQ2Xaf"
   },
   "outputs": [],
   "source": [
    "import pandas as pd\n",
    "import numpy as np\n",
    "from scipy import stats"
   ]
  },
  {
   "cell_type": "code",
   "execution_count": null,
   "metadata": {
    "colab": {
     "base_uri": "https://localhost:8080/",
     "height": 206
    },
    "id": "TRu19lcN2J3-",
    "outputId": "8450cfa6-fe12-48bc-830e-7861f944237e"
   },
   "outputs": [
    {
     "data": {
      "text/html": [
       "<div>\n",
       "<style scoped>\n",
       "    .dataframe tbody tr th:only-of-type {\n",
       "        vertical-align: middle;\n",
       "    }\n",
       "\n",
       "    .dataframe tbody tr th {\n",
       "        vertical-align: top;\n",
       "    }\n",
       "\n",
       "    .dataframe thead th {\n",
       "        text-align: right;\n",
       "    }\n",
       "</style>\n",
       "<table border=\"1\" class=\"dataframe\">\n",
       "  <thead>\n",
       "    <tr style=\"text-align: right;\">\n",
       "      <th></th>\n",
       "      <th>Weekdays</th>\n",
       "      <th>Weekend</th>\n",
       "    </tr>\n",
       "  </thead>\n",
       "  <tbody>\n",
       "    <tr>\n",
       "      <th>0</th>\n",
       "      <td>Male</td>\n",
       "      <td>Female</td>\n",
       "    </tr>\n",
       "    <tr>\n",
       "      <th>1</th>\n",
       "      <td>Female</td>\n",
       "      <td>Male</td>\n",
       "    </tr>\n",
       "    <tr>\n",
       "      <th>2</th>\n",
       "      <td>Female</td>\n",
       "      <td>Male</td>\n",
       "    </tr>\n",
       "    <tr>\n",
       "      <th>3</th>\n",
       "      <td>Male</td>\n",
       "      <td>Female</td>\n",
       "    </tr>\n",
       "    <tr>\n",
       "      <th>4</th>\n",
       "      <td>Female</td>\n",
       "      <td>Female</td>\n",
       "    </tr>\n",
       "  </tbody>\n",
       "</table>\n",
       "</div>"
      ],
      "text/plain": [
       "  Weekdays Weekend\n",
       "0     Male  Female\n",
       "1   Female    Male\n",
       "2   Female    Male\n",
       "3     Male  Female\n",
       "4   Female  Female"
      ]
     },
     "execution_count": 32,
     "metadata": {
      "tags": []
     },
     "output_type": "execute_result"
    }
   ],
   "source": [
    "fantaloonDF = pd.read_csv('/content/drive/My Drive/DS/Assignments/HypothesisTesting/Faltoons.csv')\n",
    "# print(fantaloonDF.shape)\n",
    "fantaloonDF.head()"
   ]
  },
  {
   "cell_type": "markdown",
   "metadata": {
    "id": "qoQXaxYa3Zy0"
   },
   "source": [
    "H<sub>o</sub> => Percentage of male and female <u>does not differ</u> based on days of week.<br>\n",
    "H<sub>A</sub> => Percentage of male and female <u>differ</u> based on days of week.<br>\n",
    "\n",
    "Since the input is categorical data, we will apply <strong>2 proportion<strong> test.\n"
   ]
  },
  {
   "cell_type": "code",
   "execution_count": null,
   "metadata": {
    "colab": {
     "base_uri": "https://localhost:8080/",
     "height": 127
    },
    "id": "lmYbgoeTTAI7",
    "outputId": "f4a2cdac-6d16-4b4b-e8e5-1f8ba075a9f4"
   },
   "outputs": [
    {
     "name": "stdout",
     "output_type": "stream",
     "text": [
      "Female    287\n",
      "Male      113\n",
      "Name: Weekdays, dtype: int64\n",
      "Female    233\n",
      "Male      167\n",
      "Name: Weekend, dtype: int64\n"
     ]
    }
   ],
   "source": [
    "weekdays_count = fantaloonDF[\"Weekdays\"].value_counts()\n",
    "weekends_count = fantaloonDF[\"Weekend\"].value_counts()\n",
    "print(weekdays_count)\n",
    "print(weekends_count)"
   ]
  },
  {
   "cell_type": "code",
   "execution_count": null,
   "metadata": {
    "colab": {
     "base_uri": "https://localhost:8080/",
     "height": 35
    },
    "id": "HWrnhKp5XBgc",
    "outputId": "56d0afbd-8fff-4346-dd24-616da2ce3ca9"
   },
   "outputs": [
    {
     "name": "stdout",
     "output_type": "stream",
     "text": [
      "P-value: 6.26114287794602e-05\n"
     ]
    }
   ],
   "source": [
    "from statsmodels.stats.proportion import proportions_ztest\n",
    "count = np.array([287, 233]) \n",
    "nobs = np.array([400, 400]) \n",
    "stat, pval = proportions_ztest(count, nobs, alternative='two-sided') \n",
    "print(\"P-value: {}\".format(pval))"
   ]
  },
  {
   "cell_type": "markdown",
   "metadata": {
    "id": "8ZWWOn8-oD1y"
   },
   "source": [
    "The p-value is less than the &alpha; value.<br>\n",
    "<strong>Hence we reject the null hypothesis.</strong> We conclude that the proportions are not same."
   ]
  }
 ],
 "metadata": {
  "colab": {
   "name": "HypothesisQ5.ipynb",
   "provenance": []
  },
  "kernelspec": {
   "display_name": "Python 3",
   "language": "python",
   "name": "python3"
  },
  "language_info": {
   "codemirror_mode": {
    "name": "ipython",
    "version": 3
   },
   "file_extension": ".py",
   "mimetype": "text/x-python",
   "name": "python",
   "nbconvert_exporter": "python",
   "pygments_lexer": "ipython3",
   "version": "3.7.4"
  }
 },
 "nbformat": 4,
 "nbformat_minor": 1
}
