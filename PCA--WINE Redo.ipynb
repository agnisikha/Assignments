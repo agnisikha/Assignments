{
 "cells": [
  {
   "cell_type": "code",
   "execution_count": 25,
   "metadata": {},
   "outputs": [],
   "source": [
    "import pandas as pd\n",
    "import matplotlib.pyplot as plt\n",
    "import numpy as np\n",
    "from sklearn.datasets import load_wine\n",
    "from matplotlib import gridspec \n",
    "from sklearn.cluster import OPTICS, cluster_optics_dbscan \n",
    "from sklearn.preprocessing import normalize, StandardScaler"
   ]
  },
  {
   "cell_type": "code",
   "execution_count": 26,
   "metadata": {},
   "outputs": [],
   "source": [
    "wine = load_wine()\n",
    "\n",
    "df = pd.DataFrame(wine.data, columns=wine.feature_names)"
   ]
  },
  {
   "cell_type": "code",
   "execution_count": 27,
   "metadata": {},
   "outputs": [
    {
     "name": "stdout",
     "output_type": "stream",
     "text": [
      "   alcohol  malic_acid   ash  alcalinity_of_ash\n",
      "0    14.23        1.71  2.43               15.6\n",
      "1    13.20        1.78  2.14               11.2\n",
      "2    13.16        2.36  2.67               18.6\n",
      "3    14.37        1.95  2.50               16.8\n",
      "4    13.24        2.59  2.87               21.0\n"
     ]
    }
   ],
   "source": [
    "print(df.iloc[:,0:4].head())"
   ]
  },
  {
   "cell_type": "code",
   "execution_count": 28,
   "metadata": {},
   "outputs": [],
   "source": [
    "df = StandardScaler().fit_transform(df)\n",
    "df = pd.DataFrame(df,columns=wine.feature_names)"
   ]
  },
  {
   "cell_type": "code",
   "execution_count": 5,
   "metadata": {},
   "outputs": [
    {
     "name": "stdout",
     "output_type": "stream",
     "text": [
      "            alcohol    malic_acid           ash  alcalinity_of_ash\n",
      "count  1.780000e+02  1.780000e+02  1.780000e+02       1.780000e+02\n",
      "mean   7.841418e-15  2.444986e-16 -4.059175e-15      -7.110417e-17\n",
      "std    1.002821e+00  1.002821e+00  1.002821e+00       1.002821e+00\n",
      "min   -2.434235e+00 -1.432983e+00 -3.679162e+00      -2.671018e+00\n",
      "25%   -7.882448e-01 -6.587486e-01 -5.721225e-01      -6.891372e-01\n",
      "50%    6.099988e-02 -4.231120e-01 -2.382132e-02       1.518295e-03\n",
      "75%    8.361286e-01  6.697929e-01  6.981085e-01       6.020883e-01\n",
      "max    2.259772e+00  3.109192e+00  3.156325e+00       3.154511e+00\n"
     ]
    }
   ],
   "source": [
    "print(df.iloc[:,0:4].describe())"
   ]
  },
  {
   "cell_type": "code",
   "execution_count": 6,
   "metadata": {},
   "outputs": [],
   "source": [
    "from sklearn.decomposition import PCA\n",
    "pca = PCA(n_components=2)\n",
    "pca_model=pca.fit(df)\n",
    "df_trans=pd.DataFrame(pca_model.transform(df), columns=['pca1', 'pca2'])"
   ]
  },
  {
   "cell_type": "code",
   "execution_count": 7,
   "metadata": {},
   "outputs": [
    {
     "name": "stdout",
     "output_type": "stream",
     "text": [
      "       pca1      pca2\n",
      "0  3.316751 -1.443463\n",
      "1  2.209465  0.333393\n",
      "2  2.516740 -1.031151\n",
      "3  3.757066 -2.756372\n",
      "4  1.008908 -0.869831\n"
     ]
    }
   ],
   "source": [
    "print(df_trans.head())"
   ]
  },
  {
   "cell_type": "code",
   "execution_count": 8,
   "metadata": {},
   "outputs": [
    {
     "data": {
      "image/png": "[encoded data removed]",
      "text/plain": [
       "<Figure size 432x288 with 1 Axes>"
      ]
     },
     "metadata": {
      "needs_background": "light"
     },
     "output_type": "display_data"
    }
   ],
   "source": [
    "plt.scatter(df_trans['pca1'], df_trans['pca2'], alpha=0.8, color=[\"green\"])\n",
    "plt.xlabel('PCA 1')\n",
    "plt.ylabel('PCA 2')\n",
    "plt.show()"
   ]
  },
  {
   "cell_type": "code",
   "execution_count": 9,
   "metadata": {},
   "outputs": [
    {
     "name": "stdout",
     "output_type": "stream",
     "text": [
      "    alcohol  malic_acid       ash  alcalinity_of_ash  magnesium  \\\n",
      "0  0.144329   -0.245188 -0.002051          -0.239320   0.141992   \n",
      "1 -0.483652   -0.224931 -0.316069           0.010591  -0.299634   \n",
      "\n",
      "   total_phenols  flavanoids  nonflavanoid_phenols  proanthocyanins  \\\n",
      "0       0.394661    0.422934             -0.298533         0.313429   \n",
      "1      -0.065040    0.003360             -0.028779        -0.039302   \n",
      "\n",
      "   color_intensity       hue  od280/od315_of_diluted_wines   proline  \n",
      "0        -0.088617  0.296715                      0.376167  0.286752  \n",
      "1        -0.529996  0.279235                      0.164496 -0.364903  \n"
     ]
    }
   ],
   "source": [
    "comp=pd.DataFrame(pca_model.components_, columns=wine.feature_names)\n",
    "print(comp)"
   ]
  },
  {
   "cell_type": "code",
   "execution_count": 10,
   "metadata": {},
   "outputs": [
    {
     "name": "stdout",
     "output_type": "stream",
     "text": [
      "[0.36198848 0.1920749 ]\n"
     ]
    }
   ],
   "source": [
    "print(pca_model.explained_variance_ratio_)"
   ]
  },
  {
   "cell_type": "code",
   "execution_count": 11,
   "metadata": {},
   "outputs": [],
   "source": [
    "pca = PCA()\n",
    "pca_model=pca.fit(df)"
   ]
  },
  {
   "cell_type": "code",
   "execution_count": 12,
   "metadata": {},
   "outputs": [
    {
     "name": "stdout",
     "output_type": "stream",
     "text": [
      "[0.36198848 0.1920749  0.11123631 0.0706903  0.06563294 0.04935823\n",
      " 0.04238679 0.02680749 0.02222153 0.01930019 0.01736836 0.01298233\n",
      " 0.00795215]\n"
     ]
    }
   ],
   "source": [
    "print(pca_model.explained_variance_ratio_)"
   ]
  },
  {
   "cell_type": "code",
   "execution_count": 13,
   "metadata": {},
   "outputs": [
    {
     "name": "stdout",
     "output_type": "stream",
     "text": [
      "[0.36198848 0.55406338 0.66529969 0.73598999 0.80162293 0.85098116\n",
      " 0.89336795 0.92017544 0.94239698 0.96169717 0.97906553 0.99204785\n",
      " 1.        ]\n"
     ]
    }
   ],
   "source": [
    "print(np.cumsum(pca_model.explained_variance_ratio_))"
   ]
  },
  {
   "cell_type": "code",
   "execution_count": 14,
   "metadata": {},
   "outputs": [
    {
     "data": {
      "image/png": "[encoded data removed]",
      "text/plain": [
       "<Figure size 432x288 with 1 Axes>"
      ]
     },
     "metadata": {
      "needs_background": "light"
     },
     "output_type": "display_data"
    }
   ],
   "source": [
    "plt.plot(list(range(1,14)), pca.explained_variance_ratio_)\n",
    "plt.axis([0, 14, 0, max(pca.explained_variance_ratio_)+0.05])\n",
    "plt.xticks(list(range(1,14)))\n",
    "plt.xlabel('Principal Components')\n",
    "plt.ylabel('Variance Explained')\n",
    "plt.show()"
   ]
  },
  {
   "cell_type": "code",
   "execution_count": 15,
   "metadata": {},
   "outputs": [
    {
     "data": {
      "image/png": "[encoded data removed]",
      "text/plain": [
       "<Figure size 432x288 with 1 Axes>"
      ]
     },
     "metadata": {
      "needs_background": "light"
     },
     "output_type": "display_data"
    }
   ],
   "source": [
    "plt.plot(list(range(1,14)), np.cumsum(pca.explained_variance_ratio_))\n",
    "plt.axis([0, 14, 0, 1.1])\n",
    "plt.axhline(y=0.8, color='r', linestyle='--', linewidth=1)\n",
    "plt.xticks(list(range(1,14)))\n",
    "plt.xlabel('# of Principal Components')\n",
    "plt.ylabel('Cumulative Variance Explained')\n",
    "plt.show()"
   ]
  },
  {
   "cell_type": "code",
   "execution_count": 16,
   "metadata": {},
   "outputs": [
    {
     "data": {
      "text/plain": [
       "array([1, 1, 1, 1, 1, 1, 1, 1, 1, 1, 1, 1, 1, 1, 1, 1, 1, 1, 1, 1, 1, 1,\n",
       "       1, 1, 1, 1, 1, 1, 1, 1, 1, 1, 1, 1, 1, 1, 1, 1, 1, 1, 1, 1, 1, 1,\n",
       "       1, 1, 1, 1, 1, 1, 1, 1, 1, 1, 1, 1, 1, 1, 1, 2, 2, 0, 2, 2, 2, 2,\n",
       "       2, 2, 2, 2, 2, 2, 2, 1, 2, 2, 2, 2, 2, 2, 2, 2, 2, 0, 2, 2, 2, 2,\n",
       "       2, 2, 2, 2, 2, 2, 2, 1, 2, 2, 2, 2, 2, 2, 2, 2, 2, 2, 2, 2, 2, 2,\n",
       "       2, 2, 2, 2, 2, 2, 2, 2, 0, 2, 2, 1, 2, 2, 2, 2, 2, 2, 2, 2, 0, 0,\n",
       "       0, 0, 0, 0, 0, 0, 0, 0, 0, 0, 0, 0, 0, 0, 0, 0, 0, 0, 0, 0, 0, 0,\n",
       "       0, 0, 0, 0, 0, 0, 0, 0, 0, 0, 0, 0, 0, 0, 0, 0, 0, 0, 0, 0, 0, 0,\n",
       "       0, 0])"
      ]
     },
     "execution_count": 16,
     "metadata": {},
     "output_type": "execute_result"
    }
   ],
   "source": [
    "from sklearn.cluster import KMeans\n",
    "kmeans = KMeans(n_clusters = 3)\n",
    "kmeans.fit(df)\n",
    "kmeans.labels_"
   ]
  },
  {
   "cell_type": "code",
   "execution_count": 17,
   "metadata": {},
   "outputs": [
    {
     "name": "stdout",
     "output_type": "stream",
     "text": [
      "<class 'pandas.core.frame.DataFrame'>\n",
      "RangeIndex: 178 entries, 0 to 177\n",
      "Data columns (total 13 columns):\n",
      "alcohol                         178 non-null float64\n",
      "malic_acid                      178 non-null float64\n",
      "ash                             178 non-null float64\n",
      "alcalinity_of_ash               178 non-null float64\n",
      "magnesium                       178 non-null float64\n",
      "total_phenols                   178 non-null float64\n",
      "flavanoids                      178 non-null float64\n",
      "nonflavanoid_phenols            178 non-null float64\n",
      "proanthocyanins                 178 non-null float64\n",
      "color_intensity                 178 non-null float64\n",
      "hue                             178 non-null float64\n",
      "od280/od315_of_diluted_wines    178 non-null float64\n",
      "proline                         178 non-null float64\n",
      "dtypes: float64(13)\n",
      "memory usage: 18.2 KB\n"
     ]
    }
   ],
   "source": [
    "df.info()"
   ]
  },
  {
   "cell_type": "code",
   "execution_count": 18,
   "metadata": {},
   "outputs": [
    {
     "data": {
      "text/plain": [
       "array([[ 1.51861254, -0.5622498 ,  0.23205254, ...,  1.22488398,\n",
       "         0.25171685,  0.36217728],\n",
       "       [ 0.24628963, -0.49941338, -0.82799632, ..., -0.54472099,\n",
       "        -0.29332133,  0.40605066],\n",
       "       [ 0.19687903,  0.02123125,  1.10933436, ...,  2.13596773,\n",
       "         0.26901965,  0.31830389],\n",
       "       ...,\n",
       "       [ 0.33275817,  1.74474449, -0.38935541, ..., -0.4220751 ,\n",
       "         2.22423597, -1.61212515],\n",
       "       [ 0.20923168,  0.22769377,  0.01273209, ..., -0.22934584,\n",
       "         1.83492299, -1.56825176],\n",
       "       [ 1.39508604,  1.58316512,  1.36520822, ..., -0.4220751 ,\n",
       "         1.79166599, -1.52437837]])"
      ]
     },
     "execution_count": 18,
     "metadata": {},
     "output_type": "execute_result"
    }
   ],
   "source": [
    "X = df.iloc[:,0:11].values\n",
    "X"
   ]
  },
  {
   "cell_type": "code",
   "execution_count": 19,
   "metadata": {},
   "outputs": [
    {
     "data": {
      "text/plain": [
       "array([ 1.84791957,  1.1134493 ,  0.78858745,  1.18407144,  0.44960118,\n",
       "        0.33660575,  1.36768901,  1.36768901,  0.33660575,  1.32531572,\n",
       "        0.78858745,  0.29423247,  0.40722789,  0.16711262,  0.54847218,\n",
       "        0.37897904,  0.05411719, -0.05887823,  0.29423247,  1.05695159,\n",
       "        1.55130658,  1.28294244,  1.96091499,  1.43831115,  1.70667528,\n",
       "        0.83096074,  0.8592096 ,  0.22361033,  1.1134493 ,  1.38181344,\n",
       "        0.13886376,  0.37897904,  0.36485461,  0.54847218,  0.36485461,\n",
       "        1.2123203 ,  0.23773476, -0.1436248 ,  0.1106149 ,  1.29706687,\n",
       "        1.08520045,  0.54847218,  1.33944015,  0.54847218,  1.04282716,\n",
       "        1.01457831,  1.16994702,  1.01457831,  0.19536147,  0.68971646,\n",
       "        0.42135232,  1.07107602,  0.91570731,  0.44960118,  0.83096074,\n",
       "        0.59084546,  0.98632945,  0.32248133,  0.36485461, -1.11821035,\n",
       "       -1.33007677, -1.44307219, -0.21424694,  0.36485461, -0.53910879,\n",
       "       -0.44023779,  0.80271188,  1.22644473, -0.96284164,  0.64734317,\n",
       "       -1.11821035,  0.77446303,  0.23773476,  1.25469358,  0.73208974,\n",
       "       -0.66622864, -0.18599809, -0.12950037, -0.42611337,  0.73208974,\n",
       "        0.71796531,  0.74621417,  0.15298819, -0.84984621,  0.6614676 ,\n",
       "        0.77446303, -0.49673551,  0.84508517,  0.19536147,  0.84508517,\n",
       "       -0.48261108,  0.05411719, -0.77922407,  0.97220502,  0.49197446,\n",
       "        0.02586833, -0.49673551,  0.18123704,  0.22361033,  0.3083569 ,\n",
       "        0.49197446,  0.22361033,  1.08520045, -0.2424958 ,  1.35356458,\n",
       "        0.97220502,  0.78858745, -0.27074466,  0.57672103,  0.91570731,\n",
       "        0.28010804,  0.23773476, -0.15774923, -0.42611337,  0.81683631,\n",
       "        0.36485461,  1.01457831,  0.49197446, -0.6944775 ,  0.61909432,\n",
       "        1.09932487,  1.52305772,  0.71796531,  0.68971646,  1.45243558,\n",
       "        0.94395616,  0.32248133, -0.2424958 ,  0.23773476, -0.05887823,\n",
       "       -1.86680504, -1.68318747, -1.76793404, -1.86680504, -1.55606762,\n",
       "       -1.45719662, -1.89505389, -1.30182791, -1.11821035, -0.65210422,\n",
       "       -0.42611337, -0.20012252, -0.77922407, -0.7933485 , -0.86397064,\n",
       "       -1.31595234, -1.81030733, -1.06171263, -1.40069891, -1.81030733,\n",
       "       -1.85268061, -1.61256533, -1.81030733, -1.55606762, -1.49956991,\n",
       "       -1.5984409 , -1.37245005, -1.2453302 , -0.92046835, -1.17470806,\n",
       "       -1.45719662, -1.11821035, -0.70860193, -1.21708134, -1.31595234,\n",
       "       -1.21708134, -1.48544548, -1.21708134, -1.1464592 , -0.97696606,\n",
       "       -1.10408592, -1.38657448, -1.27357906, -1.23120577, -1.48544548,\n",
       "       -1.48544548, -1.40069891, -1.42894777])"
      ]
     },
     "execution_count": 19,
     "metadata": {},
     "output_type": "execute_result"
    }
   ],
   "source": [
    "y = df.iloc[:,11].values\n",
    "y"
   ]
  },
  {
   "cell_type": "code",
   "execution_count": 24,
   "metadata": {},
   "outputs": [
    {
     "data": {
      "text/plain": [
       "alcohol                         0\n",
       "malic_acid                      0\n",
       "ash                             0\n",
       "alcalinity_of_ash               0\n",
       "magnesium                       0\n",
       "total_phenols                   0\n",
       "flavanoids                      0\n",
       "nonflavanoid_phenols            0\n",
       "proanthocyanins                 0\n",
       "color_intensity                 0\n",
       "hue                             0\n",
       "od280/od315_of_diluted_wines    0\n",
       "proline                         0\n",
       "dtype: int64"
      ]
     },
     "execution_count": 24,
     "metadata": {},
     "output_type": "execute_result"
    }
   ],
   "source": [
    "df.isnull().sum()"
   ]
  },
  {
   "cell_type": "code",
   "execution_count": 29,
   "metadata": {},
   "outputs": [],
   "source": [
    "df_n = normalize(df)"
   ]
  },
  {
   "cell_type": "code",
   "execution_count": 30,
   "metadata": {},
   "outputs": [],
   "source": [
    "X_normalized = pd.DataFrame(df_n)"
   ]
  },
  {
   "cell_type": "code",
   "execution_count": 31,
   "metadata": {},
   "outputs": [
    {
     "data": {
      "text/html": [
       "<div>\n",
       "<style scoped>\n",
       "    .dataframe tbody tr th:only-of-type {\n",
       "        vertical-align: middle;\n",
       "    }\n",
       "\n",
       "    .dataframe tbody tr th {\n",
       "        vertical-align: top;\n",
       "    }\n",
       "\n",
       "    .dataframe thead th {\n",
       "        text-align: right;\n",
       "    }\n",
       "</style>\n",
       "<table border=\"1\" class=\"dataframe\">\n",
       "  <thead>\n",
       "    <tr style=\"text-align: right;\">\n",
       "      <th></th>\n",
       "      <th>alcohol</th>\n",
       "      <th>malic_acid</th>\n",
       "      <th>ash</th>\n",
       "      <th>alcalinity_of_ash</th>\n",
       "      <th>magnesium</th>\n",
       "      <th>total_phenols</th>\n",
       "      <th>flavanoids</th>\n",
       "      <th>nonflavanoid_phenols</th>\n",
       "      <th>proanthocyanins</th>\n",
       "      <th>color_intensity</th>\n",
       "      <th>hue</th>\n",
       "      <th>od280/od315_of_diluted_wines</th>\n",
       "      <th>proline</th>\n",
       "    </tr>\n",
       "  </thead>\n",
       "  <tbody>\n",
       "    <tr>\n",
       "      <td>0</td>\n",
       "      <td>0.379613</td>\n",
       "      <td>-0.140548</td>\n",
       "      <td>0.058007</td>\n",
       "      <td>-0.292368</td>\n",
       "      <td>0.478426</td>\n",
       "      <td>0.202228</td>\n",
       "      <td>0.258678</td>\n",
       "      <td>-0.164873</td>\n",
       "      <td>0.306189</td>\n",
       "      <td>0.062923</td>\n",
       "      <td>0.090535</td>\n",
       "      <td>0.461931</td>\n",
       "      <td>0.253226</td>\n",
       "    </tr>\n",
       "    <tr>\n",
       "      <td>1</td>\n",
       "      <td>0.072771</td>\n",
       "      <td>-0.147561</td>\n",
       "      <td>-0.244647</td>\n",
       "      <td>-0.735967</td>\n",
       "      <td>0.005361</td>\n",
       "      <td>0.168017</td>\n",
       "      <td>0.216764</td>\n",
       "      <td>-0.242497</td>\n",
       "      <td>-0.160948</td>\n",
       "      <td>-0.086667</td>\n",
       "      <td>0.119975</td>\n",
       "      <td>0.328989</td>\n",
       "      <td>0.285198</td>\n",
       "    </tr>\n",
       "    <tr>\n",
       "      <td>2</td>\n",
       "      <td>0.059268</td>\n",
       "      <td>0.006391</td>\n",
       "      <td>0.333952</td>\n",
       "      <td>-0.080900</td>\n",
       "      <td>0.026599</td>\n",
       "      <td>0.243539</td>\n",
       "      <td>0.365922</td>\n",
       "      <td>-0.150039</td>\n",
       "      <td>0.643007</td>\n",
       "      <td>0.080985</td>\n",
       "      <td>0.095822</td>\n",
       "      <td>0.237395</td>\n",
       "      <td>0.419993</td>\n",
       "    </tr>\n",
       "    <tr>\n",
       "      <td>3</td>\n",
       "      <td>0.348418</td>\n",
       "      <td>-0.071435</td>\n",
       "      <td>0.100501</td>\n",
       "      <td>-0.166686</td>\n",
       "      <td>0.191747</td>\n",
       "      <td>0.513178</td>\n",
       "      <td>0.302069</td>\n",
       "      <td>-0.202243</td>\n",
       "      <td>0.212599</td>\n",
       "      <td>0.244301</td>\n",
       "      <td>-0.088064</td>\n",
       "      <td>0.243890</td>\n",
       "      <td>0.480866</td>\n",
       "    </tr>\n",
       "    <tr>\n",
       "      <td>4</td>\n",
       "      <td>0.110835</td>\n",
       "      <td>0.085345</td>\n",
       "      <td>0.689824</td>\n",
       "      <td>0.169399</td>\n",
       "      <td>0.480516</td>\n",
       "      <td>0.303230</td>\n",
       "      <td>0.248639</td>\n",
       "      <td>0.085008</td>\n",
       "      <td>0.150455</td>\n",
       "      <td>-0.119672</td>\n",
       "      <td>0.135752</td>\n",
       "      <td>0.168520</td>\n",
       "      <td>-0.014196</td>\n",
       "    </tr>\n",
       "  </tbody>\n",
       "</table>\n",
       "</div>"
      ],
      "text/plain": [
       "    alcohol  malic_acid       ash  alcalinity_of_ash  magnesium  \\\n",
       "0  0.379613   -0.140548  0.058007          -0.292368   0.478426   \n",
       "1  0.072771   -0.147561 -0.244647          -0.735967   0.005361   \n",
       "2  0.059268    0.006391  0.333952          -0.080900   0.026599   \n",
       "3  0.348418   -0.071435  0.100501          -0.166686   0.191747   \n",
       "4  0.110835    0.085345  0.689824           0.169399   0.480516   \n",
       "\n",
       "   total_phenols  flavanoids  nonflavanoid_phenols  proanthocyanins  \\\n",
       "0       0.202228    0.258678             -0.164873         0.306189   \n",
       "1       0.168017    0.216764             -0.242497        -0.160948   \n",
       "2       0.243539    0.365922             -0.150039         0.643007   \n",
       "3       0.513178    0.302069             -0.202243         0.212599   \n",
       "4       0.303230    0.248639              0.085008         0.150455   \n",
       "\n",
       "   color_intensity       hue  od280/od315_of_diluted_wines   proline  \n",
       "0         0.062923  0.090535                      0.461931  0.253226  \n",
       "1        -0.086667  0.119975                      0.328989  0.285198  \n",
       "2         0.080985  0.095822                      0.237395  0.419993  \n",
       "3         0.244301 -0.088064                      0.243890  0.480866  \n",
       "4        -0.119672  0.135752                      0.168520 -0.014196  "
      ]
     },
     "execution_count": 31,
     "metadata": {},
     "output_type": "execute_result"
    }
   ],
   "source": [
    "X_normalized.columns = df.columns\n",
    "X_normalized.head()"
   ]
  },
  {
   "cell_type": "code",
   "execution_count": 32,
   "metadata": {},
   "outputs": [
    {
     "data": {
      "text/plain": [
       "OPTICS(algorithm='auto', cluster_method='xi', eps=None, leaf_size=30,\n",
       "       max_eps=inf, metric='minkowski', metric_params=None,\n",
       "       min_cluster_size=0.05, min_samples=10, n_jobs=None, p=2,\n",
       "       predecessor_correction=True, xi=0.05)"
      ]
     },
     "execution_count": 32,
     "metadata": {},
     "output_type": "execute_result"
    }
   ],
   "source": [
    "# Building the OPTICS Clustering model \n",
    "df_model = OPTICS(min_samples = 10, xi = 0.05, min_cluster_size = 0.05) \n",
    "  \n",
    "# Training the model \n",
    "df_model.fit(X_normalized) "
   ]
  },
  {
   "cell_type": "code",
   "execution_count": 33,
   "metadata": {},
   "outputs": [],
   "source": [
    "labels1 = cluster_optics_dbscan(reachability = df_model.reachability_,\n",
    "                                core_distances = df_model.core_distances_, \n",
    "                                   ordering = df_model.ordering_, eps = 0.5) "
   ]
  },
  {
   "cell_type": "code",
   "execution_count": 34,
   "metadata": {},
   "outputs": [],
   "source": [
    "labels2 = cluster_optics_dbscan(reachability = df_model.reachability_, \n",
    "                                   core_distances = df_model.core_distances_, \n",
    "                                   ordering = df_model.ordering_, eps = 2) "
   ]
  },
  {
   "cell_type": "code",
   "execution_count": 35,
   "metadata": {},
   "outputs": [],
   "source": [
    "space = np.arange(len(X_normalized))"
   ]
  },
  {
   "cell_type": "code",
   "execution_count": 36,
   "metadata": {},
   "outputs": [],
   "source": [
    "reachability = df_model.reachability_[df_model.ordering_] "
   ]
  },
  {
   "cell_type": "code",
   "execution_count": 37,
   "metadata": {},
   "outputs": [],
   "source": [
    "labels = df_model.labels_[df_model.ordering_]"
   ]
  },
  {
   "cell_type": "code",
   "execution_count": 38,
   "metadata": {},
   "outputs": [
    {
     "name": "stdout",
     "output_type": "stream",
     "text": [
      "[ 0  0  0  0  0  0  0  0  0  0  0  0  0  0  0  0  0  0  0  0  0  0  0  0\n",
      "  0  0  0  0  0  0  0  0  0  0  0  0  0  0  0  0  0  0  0  0  0  0  0  0\n",
      "  0  0  0  0  0  0  0  0  0  0  0  0 -1 -1 -1  1  1  1  1  1  1  1  1  1\n",
      "  1  1  1  1  1  1  1  1  1  1  1  1  1  1  1  1  1  1  1  1  1  1  1  1\n",
      "  1  1  1  1  1  1  1  1  2  2  2  2  2  2  2  2  2  2  2  2  2  2  2  2\n",
      "  2  2  2  2  2  2  2  2  2  2  2  2  2  2  2  2  2  2  2  2  2  2  2  2\n",
      "  2  2  2  2  2  2  2  2  2  2  2  2 -1 -1 -1 -1 -1 -1 -1 -1 -1 -1 -1 -1\n",
      " -1 -1 -1 -1 -1 -1 -1 -1 -1 -1]\n"
     ]
    }
   ],
   "source": [
    "print(labels) "
   ]
  },
  {
   "cell_type": "code",
   "execution_count": 41,
   "metadata": {},
   "outputs": [
    {
     "data": {
      "image/png": "[encoded data removed]",
      "text/plain": [
       "<Figure size 720x504 with 4 Axes>"
      ]
     },
     "metadata": {
      "needs_background": "light"
     },
     "output_type": "display_data"
    }
   ],
   "source": [
    "# Defining the framework of the visualization \n",
    "plt.figure(figsize =(10, 7)) \n",
    "G = gridspec.GridSpec(2, 3) \n",
    "ax1 = plt.subplot(G[0, :]) \n",
    "ax2 = plt.subplot(G[1, 0]) \n",
    "ax3 = plt.subplot(G[1, 1]) \n",
    "ax4 = plt.subplot(G[1, 2])\n",
    "\n",
    "# Plotting the Reachability-Distance Plot \n",
    "colors = ['c.', 'b.', 'r.', 'y.', 'g.'] \n",
    "for Class, colour in zip(range(0, 5), colors): \n",
    "    Xk = space[labels == Class] \n",
    "    Rk = reachability[labels == Class] \n",
    "    ax1.plot(Xk, Rk, colour, alpha = 0.3) \n",
    "ax1.plot(space[labels == -1], reachability[labels == -1], 'k.', alpha = 0.3) \n",
    "ax1.plot(space, np.full_like(space, 2., dtype = float), 'k-', alpha = 0.5) \n",
    "ax1.plot(space, np.full_like(space, 0.5, dtype = float), 'k-.', alpha = 0.5) \n",
    "ax1.set_ylabel('Reachability Distance') \n",
    "ax1.set_title('Reachability Plot')\n",
    "\n",
    "# Plotting the OPTICS Clustering \n",
    "colors = ['c.', 'b.', 'r.', 'y.', 'g.'] \n",
    "for Class, colour in zip(range(0, 5), colors): \n",
    "    Xk = X_normalized[df_model.labels_ == Class] \n",
    "    ax2.plot(Xk.iloc[:, 0], Xk.iloc[:, 1], colour, alpha = 0.3) \n",
    "      \n",
    "ax2.plot(X_normalized.iloc[df_model.labels_ == -1, 0], \n",
    "        X_normalized.iloc[df_model.labels_ == -1, 1], \n",
    "       'k+', alpha = 0.1) \n",
    "ax2.set_title('OPTICS Clustering') \n",
    "  \n",
    "# Plotting the DBSCAN Clustering with eps = 0.5 \n",
    "colors = ['c', 'b', 'r', 'y', 'g', 'greenyellow'] \n",
    "for Class, colour in zip(range(0, 6), colors): \n",
    "    Xk = X_normalized[labels1 == Class] \n",
    "    ax3.plot(Xk.iloc[:, 0], Xk.iloc[:, 1], colour, alpha = 0.3, marker ='.') \n",
    "        \n",
    "ax3.plot(X_normalized.iloc[labels1 == -1, 0], \n",
    "        X_normalized.iloc[labels1 == -1, 1], \n",
    "       'k+', alpha = 0.1) \n",
    "ax3.set_title('DBSCAN clustering with eps = 0.5') \n",
    "  \n",
    "# Plotting the DBSCAN Clustering with eps = 2.0 \n",
    "colors = ['c.', 'y.', 'm.', 'g.'] \n",
    "for Class, colour in zip(range(0, 4), colors): \n",
    "    Xk = X_normalized.iloc[labels2 == Class] \n",
    "    ax4.plot(Xk.iloc[:, 0], Xk.iloc[:, 1], colour, alpha = 0.3) \n",
    "          \n",
    "ax4.plot(X_normalized.iloc[labels2 == -1, 0], \n",
    "        X_normalized.iloc[labels2 == -1, 1], \n",
    "       'k+', alpha = 0.1) \n",
    "ax4.set_title('DBSCAN Clustering with eps = 2.0') \n",
    "\n",
    "plt.tight_layout() \n",
    "plt.show() "
   ]
  },
  {
   "cell_type": "code",
   "execution_count": null,
   "metadata": {},
   "outputs": [],
   "source": []
  }
 ],
 "metadata": {
  "kernelspec": {
   "display_name": "Python 3",
   "language": "python",
   "name": "python3"
  },
  "language_info": {
   "codemirror_mode": {
    "name": "ipython",
    "version": 3
   },
   "file_extension": ".py",
   "mimetype": "text/x-python",
   "name": "python",
   "nbconvert_exporter": "python",
   "pygments_lexer": "ipython3",
   "version": "3.7.4"
  }
 },
 "nbformat": 4,
 "nbformat_minor": 2
}
